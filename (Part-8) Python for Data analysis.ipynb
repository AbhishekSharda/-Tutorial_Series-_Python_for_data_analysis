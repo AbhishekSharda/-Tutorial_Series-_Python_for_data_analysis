{
 "cells": [
  {
   "cell_type": "markdown",
   "id": "8a5022fc",
   "metadata": {},
   "source": [
    "# Tuples\n",
    "Very smilar to Lists"
   ]
  },
  {
   "cell_type": "markdown",
   "id": "4c17b0b7",
   "metadata": {},
   "source": [
    "#Creating a tuple\n",
    "t1=()"
   ]
  },
  {
   "cell_type": "code",
   "execution_count": 1,
   "id": "9bdcd24a",
   "metadata": {},
   "outputs": [
    {
     "data": {
      "text/plain": [
       "(2, 3, 4, 5)"
      ]
     },
     "execution_count": 1,
     "metadata": {},
     "output_type": "execute_result"
    }
   ],
   "source": [
    "t2=(2,3,4,5)\n",
    "t2"
   ]
  },
  {
   "cell_type": "code",
   "execution_count": 2,
   "id": "3e834b26",
   "metadata": {},
   "outputs": [
    {
     "data": {
      "text/plain": [
       "('country', 2.34, 400, False)"
      ]
     },
     "execution_count": 2,
     "metadata": {},
     "output_type": "execute_result"
    }
   ],
   "source": [
    "#tuple with items of different data type\n",
    "t3=(\"country\",2.34,400,False)\n",
    "t3"
   ]
  },
  {
   "cell_type": "code",
   "execution_count": 3,
   "id": "da4a97e7",
   "metadata": {},
   "outputs": [
    {
     "data": {
      "text/plain": [
       "('Hey',)"
      ]
     },
     "execution_count": 3,
     "metadata": {},
     "output_type": "execute_result"
    }
   ],
   "source": [
    "#to make one elementt tuple, we need to add comma after it\n",
    "t4=(\"Hey\",)\n",
    "t4"
   ]
  },
  {
   "cell_type": "code",
   "execution_count": 4,
   "id": "b48022ab",
   "metadata": {},
   "outputs": [
    {
     "data": {
      "text/plain": [
       "('A', 'm', 'e', 'r', 'i', 'c', 'a')"
      ]
     },
     "execution_count": 4,
     "metadata": {},
     "output_type": "execute_result"
    }
   ],
   "source": [
    "#getting tuple from string\n",
    "t5=tuple(\"America\")\n",
    "t5"
   ]
  },
  {
   "cell_type": "code",
   "execution_count": 5,
   "id": "5e7168d7",
   "metadata": {},
   "outputs": [
    {
     "data": {
      "text/plain": [
       "6"
      ]
     },
     "execution_count": 5,
     "metadata": {},
     "output_type": "execute_result"
    }
   ],
   "source": [
    "#to access items from tuples\n",
    "t6=(12,33,4,53,6,23,4325,5)\n",
    "#getting 4th index element\n",
    "t6[4]"
   ]
  },
  {
   "cell_type": "code",
   "execution_count": 6,
   "id": "efd5656d",
   "metadata": {},
   "outputs": [
    {
     "data": {
      "text/plain": [
       "23"
      ]
     },
     "execution_count": 6,
     "metadata": {},
     "output_type": "execute_result"
    }
   ],
   "source": [
    "t6[-3]"
   ]
  },
  {
   "cell_type": "code",
   "execution_count": 7,
   "id": "4e18c3c9",
   "metadata": {},
   "outputs": [
    {
     "data": {
      "text/plain": [
       "4"
      ]
     },
     "execution_count": 7,
     "metadata": {},
     "output_type": "execute_result"
    }
   ],
   "source": [
    "#to get items from tuple within another tuple\n",
    "t7=(21,34,56,676,(2,3,4,5,6),32,43)\n",
    "#To get 4 inside another tuple\n",
    "t7[4][2]"
   ]
  },
  {
   "cell_type": "raw",
   "id": "e61a3d03",
   "metadata": {},
   "source": [
    "Lke lists we cannot edit items in tuples, because tuples are immutable\n",
    "Also,Cannot add new items to tuple"
   ]
  },
  {
   "cell_type": "code",
   "execution_count": 8,
   "id": "e9c0c860",
   "metadata": {},
   "outputs": [
    {
     "ename": "NameError",
     "evalue": "name 't1' is not defined",
     "output_type": "error",
     "traceback": [
      "\u001b[1;31m---------------------------------------------------------------------------\u001b[0m",
      "\u001b[1;31mNameError\u001b[0m                                 Traceback (most recent call last)",
      "\u001b[1;32m~\\AppData\\Local\\Temp\\ipykernel_15948\\3293946504.py\u001b[0m in \u001b[0;36m<module>\u001b[1;34m\u001b[0m\n\u001b[0;32m      1\u001b[0m \u001b[1;31m# to delete a tuple\u001b[0m\u001b[1;33m\u001b[0m\u001b[1;33m\u001b[0m\u001b[0m\n\u001b[1;32m----> 2\u001b[1;33m \u001b[1;32mdel\u001b[0m \u001b[0mt1\u001b[0m\u001b[1;33m\u001b[0m\u001b[1;33m\u001b[0m\u001b[0m\n\u001b[0m",
      "\u001b[1;31mNameError\u001b[0m: name 't1' is not defined"
     ]
    }
   ],
   "source": [
    "# to delete a tuple\n",
    "del t1"
   ]
  },
  {
   "cell_type": "markdown",
   "id": "0e7f9ab9",
   "metadata": {},
   "source": [
    "### Operations"
   ]
  },
  {
   "cell_type": "code",
   "execution_count": 9,
   "id": "2ec8945f",
   "metadata": {},
   "outputs": [
    {
     "data": {
      "text/plain": [
       "(2, 3, 4, 5, 'country', 2.34, 400, False)"
      ]
     },
     "execution_count": 9,
     "metadata": {},
     "output_type": "execute_result"
    }
   ],
   "source": [
    "#addition of 2 tuples\n",
    "t2+t3"
   ]
  },
  {
   "cell_type": "code",
   "execution_count": 10,
   "id": "6a27c246",
   "metadata": {},
   "outputs": [
    {
     "data": {
      "text/plain": [
       "('country',\n",
       " 2.34,\n",
       " 400,\n",
       " False,\n",
       " 'country',\n",
       " 2.34,\n",
       " 400,\n",
       " False,\n",
       " 'country',\n",
       " 2.34,\n",
       " 400,\n",
       " False)"
      ]
     },
     "execution_count": 10,
     "metadata": {},
     "output_type": "execute_result"
    }
   ],
   "source": [
    "t3*3"
   ]
  },
  {
   "cell_type": "code",
   "execution_count": 11,
   "id": "2aaee68d",
   "metadata": {},
   "outputs": [
    {
     "name": "stdout",
     "output_type": "stream",
     "text": [
      "country\n",
      "2.34\n",
      "400\n",
      "False\n"
     ]
    }
   ],
   "source": [
    "for i in t3:\n",
    "    print(i)"
   ]
  },
  {
   "cell_type": "code",
   "execution_count": 12,
   "id": "55d71627",
   "metadata": {},
   "outputs": [
    {
     "data": {
      "text/plain": [
       "True"
      ]
     },
     "execution_count": 12,
     "metadata": {},
     "output_type": "execute_result"
    }
   ],
   "source": [
    "#Membership Operation\n",
    "2.34 in t3"
   ]
  },
  {
   "cell_type": "markdown",
   "id": "19b1b694",
   "metadata": {},
   "source": [
    "### Functions"
   ]
  },
  {
   "cell_type": "code",
   "execution_count": 13,
   "id": "13b40afb",
   "metadata": {},
   "outputs": [
    {
     "data": {
      "text/plain": [
       "4"
      ]
     },
     "execution_count": 13,
     "metadata": {},
     "output_type": "execute_result"
    }
   ],
   "source": [
    "#length of tuple\n",
    "len(t2)"
   ]
  },
  {
   "cell_type": "code",
   "execution_count": 14,
   "id": "946847c9",
   "metadata": {},
   "outputs": [
    {
     "data": {
      "text/plain": [
       "2"
      ]
     },
     "execution_count": 14,
     "metadata": {},
     "output_type": "execute_result"
    }
   ],
   "source": [
    "#Using max, min, sum, sorted\n",
    "min(t2)"
   ]
  },
  {
   "cell_type": "code",
   "execution_count": 15,
   "id": "94cdbe7c",
   "metadata": {},
   "outputs": [
    {
     "data": {
      "text/plain": [
       "5"
      ]
     },
     "execution_count": 15,
     "metadata": {},
     "output_type": "execute_result"
    }
   ],
   "source": [
    "max(t2)\n"
   ]
  },
  {
   "cell_type": "code",
   "execution_count": 16,
   "id": "bba2b7b4",
   "metadata": {},
   "outputs": [
    {
     "data": {
      "text/plain": [
       "14"
      ]
     },
     "execution_count": 16,
     "metadata": {},
     "output_type": "execute_result"
    }
   ],
   "source": [
    "sum(t2)"
   ]
  },
  {
   "cell_type": "code",
   "execution_count": 17,
   "id": "07bb459c",
   "metadata": {},
   "outputs": [
    {
     "data": {
      "text/plain": [
       "[2, 3, 4, 5]"
      ]
     },
     "execution_count": 17,
     "metadata": {},
     "output_type": "execute_result"
    }
   ],
   "source": [
    "sorted(t2)"
   ]
  },
  {
   "cell_type": "markdown",
   "id": "456c5326",
   "metadata": {},
   "source": [
    "#### Tuples are read_only datatype"
   ]
  }
 ],
 "metadata": {
  "kernelspec": {
   "display_name": "Python 3 (ipykernel)",
   "language": "python",
   "name": "python3"
  },
  "language_info": {
   "codemirror_mode": {
    "name": "ipython",
    "version": 3
   },
   "file_extension": ".py",
   "mimetype": "text/x-python",
   "name": "python",
   "nbconvert_exporter": "python",
   "pygments_lexer": "ipython3",
   "version": "3.9.13"
  }
 },
 "nbformat": 4,
 "nbformat_minor": 5
}
