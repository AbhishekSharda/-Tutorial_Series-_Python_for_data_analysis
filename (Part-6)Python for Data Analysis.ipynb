{
 "cells": [
  {
   "cell_type": "markdown",
   "id": "6bc9c6a9-4b79-4b55-930e-a660500f56be",
   "metadata": {},
   "source": [
    "# Lists in Python"
   ]
  },
  {
   "cell_type": "markdown",
   "id": "f877dad3-6161-4a5d-a06c-fc991601964c",
   "metadata": {},
   "source": [
    "Lists acts as container for our data.\n",
    "Lists are more programmer friendly as compared to arrays because we can store hetrogenous data unlike arrays.\n"
   ]
  },
  {
   "cell_type": "code",
   "execution_count": 1,
   "id": "6c96e68d-1ec2-44b6-b5d8-ccbbfdf753b5",
   "metadata": {},
   "outputs": [],
   "source": [
    "#Accessing list is very much smiilar to accessing string,same functions are applicable for list as well"
   ]
  },
  {
   "cell_type": "code",
   "execution_count": 2,
   "id": "253b5bc6-8e7d-44f1-8bc0-56d95bd45df2",
   "metadata": {},
   "outputs": [
    {
     "data": {
      "text/plain": [
       "[]"
      ]
     },
     "execution_count": 2,
     "metadata": {},
     "output_type": "execute_result"
    }
   ],
   "source": [
    "#Empty List\n",
    "lst1=[]\n",
    "lst1"
   ]
  },
  {
   "cell_type": "code",
   "execution_count": 3,
   "id": "968e0903-7bd9-478e-a5c0-27f3f70a995e",
   "metadata": {},
   "outputs": [
    {
     "data": {
      "text/plain": [
       "['Name', 12345, False]"
      ]
     },
     "execution_count": 3,
     "metadata": {},
     "output_type": "execute_result"
    }
   ],
   "source": [
    "# Hetrogenous list \n",
    "lst1=[\"Name\",12345,False]\n",
    "lst1"
   ]
  },
  {
   "cell_type": "code",
   "execution_count": 4,
   "id": "be7574c7-014c-459d-a962-da3cff7decdb",
   "metadata": {},
   "outputs": [
    {
     "data": {
      "text/plain": [
       "[1, 2, 3, [1, 5]]"
      ]
     },
     "execution_count": 4,
     "metadata": {},
     "output_type": "execute_result"
    }
   ],
   "source": [
    "lst1=[1,2,3,[1,5]]\n",
    "lst1"
   ]
  },
  {
   "cell_type": "code",
   "execution_count": 5,
   "id": "b565872e-7312-4163-aac0-13aff805f407",
   "metadata": {},
   "outputs": [
    {
     "data": {
      "text/plain": [
       "1"
      ]
     },
     "execution_count": 5,
     "metadata": {},
     "output_type": "execute_result"
    }
   ],
   "source": [
    "lst1[0]"
   ]
  },
  {
   "cell_type": "code",
   "execution_count": 6,
   "id": "546ecb62-590e-493f-b53a-457693766b9c",
   "metadata": {},
   "outputs": [
    {
     "data": {
      "text/plain": [
       "[1, 5]"
      ]
     },
     "execution_count": 6,
     "metadata": {},
     "output_type": "execute_result"
    }
   ],
   "source": [
    "lst1[-1]"
   ]
  },
  {
   "cell_type": "code",
   "execution_count": 7,
   "id": "51aac988-79c7-4e62-87de-8654510ca97c",
   "metadata": {},
   "outputs": [
    {
     "data": {
      "text/plain": [
       "3"
      ]
     },
     "execution_count": 7,
     "metadata": {},
     "output_type": "execute_result"
    }
   ],
   "source": [
    "lst1=[1,2,[3,5],4,7]\n",
    "#Now to get 3, which is inside another list in a list:-\n",
    "lst1[2][0]\n",
    "#it means we want elment at second index and within that we want element at 0th index"
   ]
  },
  {
   "cell_type": "code",
   "execution_count": 8,
   "id": "17224d2b-73a0-4aec-88b0-bf56255f3346",
   "metadata": {},
   "outputs": [
    {
     "data": {
      "text/plain": [
       "99"
      ]
     },
     "execution_count": 8,
     "metadata": {},
     "output_type": "execute_result"
    }
   ],
   "source": [
    "lst1=[2,3,5,2,[1,3,[99,88]],6,4]\n",
    "#To get 99, which is inside a list which is inside a list thats in another list\n",
    "lst1[4][2][0]"
   ]
  },
  {
   "cell_type": "raw",
   "id": "8923f046-ae7a-4fa5-a12c-9ec54aa1538f",
   "metadata": {},
   "source": [
    "Lists in python are Mutable, unlike Strings"
   ]
  },
  {
   "cell_type": "code",
   "execution_count": 9,
   "id": "d0b16ed7-b50a-4f97-b3ca-f61f018e3097",
   "metadata": {},
   "outputs": [],
   "source": [
    "#Inserting new element at 0th position\n",
    "lst1[0]=777"
   ]
  },
  {
   "cell_type": "code",
   "execution_count": 10,
   "id": "e1f376d7-f132-4e8c-91ad-a0aaa59fb6af",
   "metadata": {},
   "outputs": [
    {
     "data": {
      "text/plain": [
       "[777, 3, 5, 2, [1, 3, [99, 88]], 6, 4]"
      ]
     },
     "execution_count": 10,
     "metadata": {},
     "output_type": "execute_result"
    }
   ],
   "source": [
    "lst1"
   ]
  },
  {
   "cell_type": "code",
   "execution_count": 11,
   "id": "0bb7b6ca-0d6f-4625-8320-684ae48100b9",
   "metadata": {},
   "outputs": [],
   "source": [
    "#Add more items to list\n",
    "#Method 1. Append"
   ]
  },
  {
   "cell_type": "code",
   "execution_count": 12,
   "id": "bfa4ee60-6d54-4343-b9d2-9ef73efa39fe",
   "metadata": {},
   "outputs": [
    {
     "data": {
      "text/plain": [
       "[777, 3, 5, 2, [1, 3, [99, 88]], 6, 4, 1000]"
      ]
     },
     "execution_count": 12,
     "metadata": {},
     "output_type": "execute_result"
    }
   ],
   "source": [
    "lst1.append(1000)\n",
    "lst1"
   ]
  },
  {
   "cell_type": "code",
   "execution_count": 13,
   "id": "c125fab7-c5e4-4e7d-aa5d-67fc1b193807",
   "metadata": {},
   "outputs": [
    {
     "data": {
      "text/plain": [
       "[777, 3, 5, 2, [1, 3, [99, 88]], 6, 4, 1000, 'hey']"
      ]
     },
     "execution_count": 13,
     "metadata": {},
     "output_type": "execute_result"
    }
   ],
   "source": [
    "lst1.append(\"hey\")\n",
    "lst1"
   ]
  },
  {
   "cell_type": "code",
   "execution_count": 14,
   "id": "0770b318-b3b1-4cca-82f9-fd240ee8c152",
   "metadata": {},
   "outputs": [],
   "source": [
    "lst1.extend([12,13])"
   ]
  },
  {
   "cell_type": "code",
   "execution_count": 15,
   "id": "a2058f17-1e47-4098-b9ce-52895c43cd08",
   "metadata": {},
   "outputs": [
    {
     "data": {
      "text/plain": [
       "[777, 3, 5, 2, [1, 3, [99, 88]], 6, 4, 1000, 'hey', 12, 13]"
      ]
     },
     "execution_count": 15,
     "metadata": {},
     "output_type": "execute_result"
    }
   ],
   "source": [
    "lst1"
   ]
  },
  {
   "cell_type": "markdown",
   "id": "c7abda85-ab10-41a7-9654-701c948f4b12",
   "metadata": {},
   "source": [
    "<b>Deleting Elements From List </b>"
   ]
  },
  {
   "cell_type": "code",
   "execution_count": 16,
   "id": "7bc44453-c52c-4317-9b67-a8701dfd5341",
   "metadata": {},
   "outputs": [
    {
     "ename": "NameError",
     "evalue": "name 'lst1' is not defined",
     "output_type": "error",
     "traceback": [
      "\u001b[1;31m---------------------------------------------------------------------------\u001b[0m",
      "\u001b[1;31mNameError\u001b[0m                                 Traceback (most recent call last)",
      "\u001b[1;32m~\\AppData\\Local\\Temp\\ipykernel_10768\\3075716810.py\u001b[0m in \u001b[0;36m<module>\u001b[1;34m\u001b[0m\n\u001b[0;32m      1\u001b[0m \u001b[1;31m#deleting entire list\u001b[0m\u001b[1;33m\u001b[0m\u001b[1;33m\u001b[0m\u001b[0m\n\u001b[0;32m      2\u001b[0m \u001b[1;32mdel\u001b[0m \u001b[0mlst1\u001b[0m\u001b[1;33m\u001b[0m\u001b[1;33m\u001b[0m\u001b[0m\n\u001b[1;32m----> 3\u001b[1;33m \u001b[0mlst1\u001b[0m\u001b[1;33m\u001b[0m\u001b[1;33m\u001b[0m\u001b[0m\n\u001b[0m",
      "\u001b[1;31mNameError\u001b[0m: name 'lst1' is not defined"
     ]
    }
   ],
   "source": [
    "#deleting entire list\n",
    "del lst1\n",
    "lst1"
   ]
  },
  {
   "cell_type": "code",
   "execution_count": 17,
   "id": "2303c5b7-1d21-43ab-a5be-36117ae290d2",
   "metadata": {},
   "outputs": [
    {
     "data": {
      "text/plain": [
       "[12, 123, 7676]"
      ]
     },
     "execution_count": 17,
     "metadata": {},
     "output_type": "execute_result"
    }
   ],
   "source": [
    "#Removes element from list based on index position\n",
    "lst3=[12,123,454,7676]\n",
    "lst3.pop(2)\n",
    "lst3"
   ]
  },
  {
   "cell_type": "markdown",
   "id": "7999a112-58e7-4ca3-abca-4cbd2f02d18a",
   "metadata": {},
   "source": []
  },
  {
   "cell_type": "markdown",
   "id": "88845fac-0235-4914-a18d-99b0d251ed22",
   "metadata": {},
   "source": [
    "<b>Functions in Lists</b>"
   ]
  },
  {
   "cell_type": "raw",
   "id": "5736b16a-246f-494d-b636-59765d5ff243",
   "metadata": {},
   "source": [
    "All functions thatare applicable to string are also applicable to Lists in a similar fashion,which includes:\n",
    "1.Len()\n",
    "2.max()\n",
    "3.min()\n",
    "4.sorted()\n"
   ]
  },
  {
   "cell_type": "code",
   "execution_count": 18,
   "id": "8fdbd7a2-8fc3-4bad-bf8c-e1d02ea3becd",
   "metadata": {},
   "outputs": [
    {
     "data": {
      "text/plain": [
       "3"
      ]
     },
     "execution_count": 18,
     "metadata": {},
     "output_type": "execute_result"
    }
   ],
   "source": [
    "len(lst3)"
   ]
  },
  {
   "cell_type": "code",
   "execution_count": 19,
   "id": "4149f479-f8b8-4d54-a140-05c7255f7f1e",
   "metadata": {},
   "outputs": [
    {
     "data": {
      "text/plain": [
       "7676"
      ]
     },
     "execution_count": 19,
     "metadata": {},
     "output_type": "execute_result"
    }
   ],
   "source": [
    "max(lst3)"
   ]
  },
  {
   "cell_type": "code",
   "execution_count": 20,
   "id": "f51d6d1e-a58b-4761-b00f-5aea3ec4405b",
   "metadata": {},
   "outputs": [
    {
     "data": {
      "text/plain": [
       "12"
      ]
     },
     "execution_count": 20,
     "metadata": {},
     "output_type": "execute_result"
    }
   ],
   "source": [
    "min(lst3)"
   ]
  },
  {
   "cell_type": "code",
   "execution_count": 23,
   "id": "f99e4e9d-bbda-4ac1-8bd9-5b0c2e0e2c34",
   "metadata": {},
   "outputs": [
    {
     "data": {
      "text/plain": [
       "[22, 323, 324, 434314, 34134314]"
      ]
     },
     "execution_count": 23,
     "metadata": {},
     "output_type": "execute_result"
    }
   ],
   "source": [
    "sorted([324,22,434314,34134314,323])"
   ]
  },
  {
   "cell_type": "code",
   "execution_count": 24,
   "id": "2c0fa963-a921-487d-ad13-fc319ad20c5a",
   "metadata": {},
   "outputs": [
    {
     "name": "stdout",
     "output_type": "stream",
     "text": [
      "[1, 2, 3, 4]\n"
     ]
    }
   ],
   "source": [
    "##Iterating through loop\n",
    "\n",
    "lst12=[]\n",
    "for i in [1,1,2,2,3,3,4,4]:\n",
    "    if i not in lst12:\n",
    "        lst12.append(i)\n",
    "        \n",
    "print(lst12 )\n",
    "    \n",
    "    \n",
    "        "
   ]
  },
  {
   "cell_type": "raw",
   "id": "bc2daab4",
   "metadata": {},
   "source": [
    "End of Part 6"
   ]
  }
 ],
 "metadata": {
  "kernelspec": {
   "display_name": "Python 3 (ipykernel)",
   "language": "python",
   "name": "python3"
  },
  "language_info": {
   "codemirror_mode": {
    "name": "ipython",
    "version": 3
   },
   "file_extension": ".py",
   "mimetype": "text/x-python",
   "name": "python",
   "nbconvert_exporter": "python",
   "pygments_lexer": "ipython3",
   "version": "3.9.13"
  }
 },
 "nbformat": 4,
 "nbformat_minor": 5
}
