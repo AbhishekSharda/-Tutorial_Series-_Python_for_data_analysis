{
 "cells": [
  {
   "cell_type": "markdown",
   "id": "28a89054-ba49-405a-b249-549d169e3776",
   "metadata": {},
   "source": [
    "# OPERATORS IN PYTHON"
   ]
  },
  {
   "cell_type": "markdown",
   "id": "d5567ec4-1d5b-4c71-a1f1-07286ed4e0c8",
   "metadata": {},
   "source": [
    "### Arithmetic Operators"
   ]
  },
  {
   "cell_type": "code",
   "execution_count": 1,
   "id": "d25b7a74-e1ba-4709-bfe9-62c95f4d6bb0",
   "metadata": {},
   "outputs": [
    {
     "name": "stdout",
     "output_type": "stream",
     "text": [
      "10\n"
     ]
    }
   ],
   "source": [
    "#Sum of two numbers\n",
    "a=8\n",
    "b=2\n",
    "print(a+b)"
   ]
  },
  {
   "cell_type": "code",
   "execution_count": 2,
   "id": "bdb77b10-9c68-4957-81f9-d4e10ca74c6c",
   "metadata": {},
   "outputs": [
    {
     "name": "stdout",
     "output_type": "stream",
     "text": [
      "6\n"
     ]
    }
   ],
   "source": [
    "#Subtraction of two numbers\n",
    "print(a-b)"
   ]
  },
  {
   "cell_type": "code",
   "execution_count": 3,
   "id": "004d6521-48b2-4ffd-a1d4-f939518a3774",
   "metadata": {},
   "outputs": [
    {
     "name": "stdout",
     "output_type": "stream",
     "text": [
      "16\n"
     ]
    }
   ],
   "source": [
    "#Multiplication of two numbers\n",
    "print(a*b)"
   ]
  },
  {
   "cell_type": "code",
   "execution_count": 4,
   "id": "8f665701-d93b-4aae-b119-e02b2ca44325",
   "metadata": {},
   "outputs": [
    {
     "name": "stdout",
     "output_type": "stream",
     "text": [
      "4.0\n"
     ]
    }
   ],
   "source": [
    "#True division\n",
    "print(a/b)"
   ]
  },
  {
   "cell_type": "code",
   "execution_count": 5,
   "id": "d1357ef8-a436-41bb-966e-0dc97e44606d",
   "metadata": {},
   "outputs": [
    {
     "name": "stdout",
     "output_type": "stream",
     "text": [
      "0\n"
     ]
    }
   ],
   "source": [
    "#Modulus\n",
    "print(a%b)"
   ]
  },
  {
   "cell_type": "code",
   "execution_count": 6,
   "id": "57721614-07a4-45c3-a220-5afb5e3aaf63",
   "metadata": {},
   "outputs": [
    {
     "name": "stdout",
     "output_type": "stream",
     "text": [
      "64\n"
     ]
    }
   ],
   "source": [
    "\n",
    "print(a ** b)"
   ]
  },
  {
   "cell_type": "code",
   "execution_count": 7,
   "id": "34c48120-6351-4e23-8132-dc0975dfbe13",
   "metadata": {},
   "outputs": [
    {
     "name": "stdout",
     "output_type": "stream",
     "text": [
      "4\n"
     ]
    }
   ],
   "source": [
    "## Integer division, converts output to integer, if in float\n",
    "print(a // b)"
   ]
  },
  {
   "cell_type": "markdown",
   "id": "09fdef20-1878-4564-93ea-f8e6cb177c3c",
   "metadata": {},
   "source": [
    "### Comparison Operators"
   ]
  },
  {
   "cell_type": "code",
   "execution_count": 8,
   "id": "5c9cedb2-bb57-42a8-98f1-a6d60f855713",
   "metadata": {},
   "outputs": [
    {
     "name": "stdout",
     "output_type": "stream",
     "text": [
      "True\n"
     ]
    }
   ],
   "source": [
    "#Greater than\n",
    "print(a>b)"
   ]
  },
  {
   "cell_type": "code",
   "execution_count": 9,
   "id": "105d1b8a-5818-4fc1-a90e-1a1627f3a56e",
   "metadata": {},
   "outputs": [
    {
     "name": "stdout",
     "output_type": "stream",
     "text": [
      "False\n"
     ]
    }
   ],
   "source": [
    "#Less than\n",
    "print(a<b)"
   ]
  },
  {
   "cell_type": "code",
   "execution_count": 10,
   "id": "e13553a6-043a-4535-9a99-5b81635abb49",
   "metadata": {},
   "outputs": [
    {
     "name": "stdout",
     "output_type": "stream",
     "text": [
      "True\n"
     ]
    }
   ],
   "source": [
    "#Greater than equal to\n",
    "print(a>=b)"
   ]
  },
  {
   "cell_type": "code",
   "execution_count": 11,
   "id": "79a62d6b-6a4c-4b4d-9d6f-d5984edb48a2",
   "metadata": {},
   "outputs": [
    {
     "name": "stdout",
     "output_type": "stream",
     "text": [
      "False\n"
     ]
    }
   ],
   "source": [
    "#Less than equal to\n",
    "print(a<=b)"
   ]
  },
  {
   "cell_type": "code",
   "execution_count": 12,
   "id": "553de236-2f23-4ed7-999f-20fd79628f56",
   "metadata": {},
   "outputs": [
    {
     "name": "stdout",
     "output_type": "stream",
     "text": [
      "False\n"
     ]
    }
   ],
   "source": [
    "#Equal to \n",
    "print(a==b)"
   ]
  },
  {
   "cell_type": "code",
   "execution_count": 13,
   "id": "08a01c3b-9c24-4661-a2a0-5570459617e0",
   "metadata": {},
   "outputs": [
    {
     "name": "stdout",
     "output_type": "stream",
     "text": [
      "True\n"
     ]
    }
   ],
   "source": [
    "#Not equal to\n",
    "print(a!=b)"
   ]
  },
  {
   "cell_type": "markdown",
   "id": "6b045083-c73c-4a72-93e8-535ced30d892",
   "metadata": {},
   "source": [
    "### Logical Operators:- and , or , not"
   ]
  },
  {
   "cell_type": "code",
   "execution_count": 14,
   "id": "930fd09d-13fd-4859-bfac-c41f661b8160",
   "metadata": {},
   "outputs": [
    {
     "name": "stdout",
     "output_type": "stream",
     "text": [
      "True\n"
     ]
    }
   ],
   "source": [
    "#Or\n",
    "a= True\n",
    "b=False\n",
    "print(a or b)\n",
    "#or will return True if one of the values is true"
   ]
  },
  {
   "cell_type": "code",
   "execution_count": 15,
   "id": "af414afb-46a4-46ab-9a37-6308893edf2e",
   "metadata": {},
   "outputs": [
    {
     "name": "stdout",
     "output_type": "stream",
     "text": [
      "False\n"
     ]
    }
   ],
   "source": [
    "#And\n",
    "a= True\n",
    "b=False\n",
    "print(a and b)\n",
    "#and will return False if one of the values is False"
   ]
  },
  {
   "cell_type": "code",
   "execution_count": 16,
   "id": "0daa3a71-ef10-46b5-a4ca-8c01fad55532",
   "metadata": {},
   "outputs": [
    {
     "name": "stdout",
     "output_type": "stream",
     "text": [
      "True\n"
     ]
    }
   ],
   "source": [
    "#And\n",
    "a= True\n",
    "b=False\n",
    "print(not b)\n",
    "#not will return True if current value is False"
   ]
  },
  {
   "cell_type": "markdown",
   "id": "ef4faba1-94f5-43e7-b2da-6792d13559d5",
   "metadata": {},
   "source": [
    "### Bitwise Operators -Used while working with binary numbers"
   ]
  },
  {
   "cell_type": "code",
   "execution_count": 17,
   "id": "b631bab0-a4ac-42b4-8601-315afcb719e3",
   "metadata": {},
   "outputs": [
    {
     "name": "stdout",
     "output_type": "stream",
     "text": [
      "2\n"
     ]
    }
   ],
   "source": [
    "#& Bitwise and\n",
    "a=2\n",
    "b=3\n",
    "print(a & b)\n",
    "##converts a and b into binary "
   ]
  },
  {
   "cell_type": "code",
   "execution_count": 18,
   "id": "d3d33b50-4a92-4b62-b874-7a1c1db333c6",
   "metadata": {},
   "outputs": [
    {
     "name": "stdout",
     "output_type": "stream",
     "text": [
      "3\n"
     ]
    }
   ],
   "source": [
    "# |Bitwise or\n",
    "a=2\n",
    "b=3\n",
    "print(a| b)\n",
    "#The bitwise OR operator (|) compares the binary digits of a and b, and sets each bit of the result to 1 if either or both of the corresponding bits in a and b are 1, otherwise it sets the bit to 0."
   ]
  },
  {
   "cell_type": "markdown",
   "id": "d73ea788-5361-441a-ba0c-a72532cf5b7a",
   "metadata": {},
   "source": [
    "### Assignment Operator"
   ]
  },
  {
   "cell_type": "code",
   "execution_count": 19,
   "id": "143904e9-cf7a-4f0b-a729-08db44e10477",
   "metadata": {},
   "outputs": [
    {
     "name": "stdout",
     "output_type": "stream",
     "text": [
      "3 7\n"
     ]
    }
   ],
   "source": [
    "# assignment =\n",
    "a=3\n",
    "b+=4\n",
    "print(a,b)"
   ]
  },
  {
   "cell_type": "markdown",
   "id": "d2c7669e-d01a-4d98-82f3-f6af28356586",
   "metadata": {},
   "source": [
    "### Membership Operator: Its purpose is to tell if something exists in something else"
   ]
  },
  {
   "cell_type": "code",
   "execution_count": 20,
   "id": "fbf71183-5cab-4c20-89e3-6eb2026c5193",
   "metadata": {},
   "outputs": [
    {
     "name": "stdout",
     "output_type": "stream",
     "text": [
      "True\n"
     ]
    }
   ],
   "source": [
    "#In \n",
    "x=\"Toronto\"\n",
    "print(\"t\" in x)"
   ]
  },
  {
   "cell_type": "code",
   "execution_count": 21,
   "id": "91d5ac37-f359-49a9-b240-a06bf628a1f6",
   "metadata": {},
   "outputs": [
    {
     "name": "stdout",
     "output_type": "stream",
     "text": [
      "True\n"
     ]
    }
   ],
   "source": [
    "x=[2,3,4,5,6,7,8]\n",
    "print(2 and 3 and 8 in x)"
   ]
  },
  {
   "cell_type": "code",
   "execution_count": 22,
   "id": "422ed0d6-b562-434b-87d8-e2808e2fae6f",
   "metadata": {},
   "outputs": [
    {
     "name": "stdout",
     "output_type": "stream",
     "text": [
      "False\n"
     ]
    }
   ],
   "source": [
    "print(9 in x)"
   ]
  }
 ],
 "metadata": {
  "kernelspec": {
   "display_name": "Python 3 (ipykernel)",
   "language": "python",
   "name": "python3"
  },
  "language_info": {
   "codemirror_mode": {
    "name": "ipython",
    "version": 3
   },
   "file_extension": ".py",
   "mimetype": "text/x-python",
   "name": "python",
   "nbconvert_exporter": "python",
   "pygments_lexer": "ipython3",
   "version": "3.9.13"
  }
 },
 "nbformat": 4,
 "nbformat_minor": 5
}
