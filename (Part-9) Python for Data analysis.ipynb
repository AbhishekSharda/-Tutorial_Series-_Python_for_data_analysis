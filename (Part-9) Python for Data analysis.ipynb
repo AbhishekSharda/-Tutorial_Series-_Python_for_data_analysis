{
 "cells": [
  {
   "cell_type": "markdown",
   "id": "6168e062",
   "metadata": {},
   "source": [
    "# Dictionary "
   ]
  },
  {
   "cell_type": "raw",
   "id": "77897ab4",
   "metadata": {},
   "source": [
    "Syntax:\n",
    "    dic={'key':'value',\n",
    "         'key2': 'value'        \n",
    "    }\n",
    "    Dictionaries have key value pairs\n",
    "    Rule:\n",
    "    1.Dictionary has no indexing\n",
    "    2.Dictionary is mutable\n",
    "    3.keys should always be immutable\n",
    "    4.values can be mutable\n",
    "    5.keys should be unique"
   ]
  },
  {
   "cell_type": "code",
   "execution_count": 1,
   "id": "92fb74e5",
   "metadata": {},
   "outputs": [
    {
     "data": {
      "text/plain": [
       "dict"
      ]
     },
     "execution_count": 1,
     "metadata": {},
     "output_type": "execute_result"
    }
   ],
   "source": [
    "#Creating dictionary\n",
    "dic={}\n",
    "type(dic)"
   ]
  },
  {
   "cell_type": "code",
   "execution_count": 2,
   "id": "c2b8466a",
   "metadata": {},
   "outputs": [
    {
     "data": {
      "text/plain": [
       "{'Name': 'abhishek', 'Favourite car': 'Masserrati'}"
      ]
     },
     "execution_count": 2,
     "metadata": {},
     "output_type": "execute_result"
    }
   ],
   "source": [
    "dic1={\"Name\":\"abhishek\" ,\n",
    "      \"Favourite car\":\"Masserrati\"\n",
    "    \n",
    "}\n",
    "dic1"
   ]
  },
  {
   "cell_type": "code",
   "execution_count": 3,
   "id": "cd99f74a",
   "metadata": {},
   "outputs": [
    {
     "data": {
      "text/plain": [
       "{'name': 'steve', 'grade': 9, 'marks': {'subject1': 55, 'subject2': 50}}"
      ]
     },
     "execution_count": 3,
     "metadata": {},
     "output_type": "execute_result"
    }
   ],
   "source": [
    "#2D dictionary: Dictionary within dictionary\n",
    "dic2={\"name\":\"steve\", \"grade\":9,\"marks\":{\"subject1\":55,\"subject2\":50} \n",
    "}\n",
    "dic2"
   ]
  },
  {
   "cell_type": "code",
   "execution_count": 4,
   "id": "aa8344fa",
   "metadata": {},
   "outputs": [
    {
     "data": {
      "text/plain": [
       "'abhishek'"
      ]
     },
     "execution_count": 4,
     "metadata": {},
     "output_type": "execute_result"
    }
   ],
   "source": [
    "#Accessing items from Dictionaries\n",
    "#write name of key, since dictionary has no indexing\n",
    "dic1['Name']"
   ]
  },
  {
   "cell_type": "code",
   "execution_count": 5,
   "id": "5d3d22a4",
   "metadata": {},
   "outputs": [
    {
     "data": {
      "text/plain": [
       "50"
      ]
     },
     "execution_count": 5,
     "metadata": {},
     "output_type": "execute_result"
    }
   ],
   "source": [
    "dic2['marks']['subject2']"
   ]
  },
  {
   "cell_type": "code",
   "execution_count": 6,
   "id": "d2835ac4",
   "metadata": {},
   "outputs": [
    {
     "data": {
      "text/plain": [
       "{'name': 'Mark', 'grade': 9, 'marks': {'subject1': 55, 'subject2': 50}}"
      ]
     },
     "execution_count": 6,
     "metadata": {},
     "output_type": "execute_result"
    }
   ],
   "source": [
    "#Editing values in dictionary\n",
    "dic2[\"name\"]=\"Mark\"\n",
    "dic2"
   ]
  },
  {
   "cell_type": "code",
   "execution_count": 7,
   "id": "60e0b68f",
   "metadata": {},
   "outputs": [
    {
     "data": {
      "text/plain": [
       "{'name': 'Mark', 'grade': 9, 'marks': {'subject1': 55, 'subject2': 65}}"
      ]
     },
     "execution_count": 7,
     "metadata": {},
     "output_type": "execute_result"
    }
   ],
   "source": [
    "dic2['marks']['subject2']=65\n",
    "dic2"
   ]
  },
  {
   "cell_type": "code",
   "execution_count": 8,
   "id": "f198f5ad",
   "metadata": {},
   "outputs": [
    {
     "data": {
      "text/plain": [
       "{'name': 'Mark',\n",
       " 'grade': 9,\n",
       " 'marks': {'subject1': 55, 'subject2': 65},\n",
       " 'age': 21}"
      ]
     },
     "execution_count": 8,
     "metadata": {},
     "output_type": "execute_result"
    }
   ],
   "source": [
    "#Adding new Key_Value Pair\n",
    "dic2[\"age\"]=21\n",
    "dic2"
   ]
  },
  {
   "cell_type": "code",
   "execution_count": 9,
   "id": "a3cfeacf",
   "metadata": {},
   "outputs": [],
   "source": [
    "#Deleting a dictionary\n",
    "del dic1"
   ]
  },
  {
   "cell_type": "code",
   "execution_count": 10,
   "id": "b19759ff",
   "metadata": {},
   "outputs": [
    {
     "ename": "NameError",
     "evalue": "name 'dic1' is not defined",
     "output_type": "error",
     "traceback": [
      "\u001b[1;31m---------------------------------------------------------------------------\u001b[0m",
      "\u001b[1;31mNameError\u001b[0m                                 Traceback (most recent call last)",
      "\u001b[1;32m~\\AppData\\Local\\Temp\\ipykernel_20748\\2345862350.py\u001b[0m in \u001b[0;36m<module>\u001b[1;34m\u001b[0m\n\u001b[1;32m----> 1\u001b[1;33m \u001b[0mdic1\u001b[0m\u001b[1;33m\u001b[0m\u001b[1;33m\u001b[0m\u001b[0m\n\u001b[0m",
      "\u001b[1;31mNameError\u001b[0m: name 'dic1' is not defined"
     ]
    }
   ],
   "source": [
    "dic1"
   ]
  },
  {
   "cell_type": "code",
   "execution_count": 11,
   "id": "3e0b268e",
   "metadata": {},
   "outputs": [],
   "source": [
    "del(dic2['grade'])"
   ]
  },
  {
   "cell_type": "code",
   "execution_count": 12,
   "id": "f2ae2128",
   "metadata": {},
   "outputs": [
    {
     "data": {
      "text/plain": [
       "{'name': 'Mark', 'marks': {'subject1': 55, 'subject2': 65}, 'age': 21}"
      ]
     },
     "execution_count": 12,
     "metadata": {},
     "output_type": "execute_result"
    }
   ],
   "source": [
    "dic2"
   ]
  },
  {
   "cell_type": "markdown",
   "id": "63bd7359",
   "metadata": {},
   "source": [
    "## "
   ]
  },
  {
   "cell_type": "code",
   "execution_count": 13,
   "id": "23a7a14d",
   "metadata": {},
   "outputs": [
    {
     "data": {
      "text/plain": [
       "3"
      ]
     },
     "execution_count": 13,
     "metadata": {},
     "output_type": "execute_result"
    }
   ],
   "source": [
    "len(dic2)"
   ]
  },
  {
   "cell_type": "code",
   "execution_count": 14,
   "id": "dcf31781",
   "metadata": {},
   "outputs": [
    {
     "data": {
      "text/plain": [
       "'age'"
      ]
     },
     "execution_count": 14,
     "metadata": {},
     "output_type": "execute_result"
    }
   ],
   "source": [
    "min(dic2)"
   ]
  },
  {
   "cell_type": "code",
   "execution_count": 15,
   "id": "7013fb71",
   "metadata": {},
   "outputs": [
    {
     "data": {
      "text/plain": [
       "'name'"
      ]
     },
     "execution_count": 15,
     "metadata": {},
     "output_type": "execute_result"
    }
   ],
   "source": [
    "max(dic2)"
   ]
  },
  {
   "cell_type": "code",
   "execution_count": 16,
   "id": "cd0425f2",
   "metadata": {},
   "outputs": [
    {
     "data": {
      "text/plain": [
       "['age', 'marks', 'name']"
      ]
     },
     "execution_count": 16,
     "metadata": {},
     "output_type": "execute_result"
    }
   ],
   "source": [
    "sorted(dic2)"
   ]
  },
  {
   "cell_type": "raw",
   "id": "5764e314",
   "metadata": {},
   "source": [
    "End of part-9"
   ]
  },
  {
   "cell_type": "code",
   "execution_count": null,
   "id": "0011b40f",
   "metadata": {},
   "outputs": [],
   "source": []
  }
 ],
 "metadata": {
  "kernelspec": {
   "display_name": "Python 3 (ipykernel)",
   "language": "python",
   "name": "python3"
  },
  "language_info": {
   "codemirror_mode": {
    "name": "ipython",
    "version": 3
   },
   "file_extension": ".py",
   "mimetype": "text/x-python",
   "name": "python",
   "nbconvert_exporter": "python",
   "pygments_lexer": "ipython3",
   "version": "3.9.13"
  }
 },
 "nbformat": 4,
 "nbformat_minor": 5
}
