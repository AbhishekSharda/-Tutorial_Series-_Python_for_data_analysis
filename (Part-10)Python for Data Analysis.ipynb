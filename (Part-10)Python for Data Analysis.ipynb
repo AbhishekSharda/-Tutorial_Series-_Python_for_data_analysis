{
 "cells": [
  {
   "cell_type": "markdown",
   "id": "73b1fd2c-2353-49e2-8a75-47f05e380aa6",
   "metadata": {},
   "source": [
    "# Functions in Python"
   ]
  },
  {
   "cell_type": "raw",
   "id": "19c17a48-c749-40fd-94b0-187260fe3d25",
   "metadata": {},
   "source": [
    "Two important things about functions are:-\n",
    "1. Abstraction\n",
    "2. Decomposition"
   ]
  },
  {
   "cell_type": "raw",
   "id": "be26e19f-638d-4138-86bf-39c4a6f62ced",
   "metadata": {},
   "source": [
    "Funtion syntax:\n",
    "    \n",
    "def Function_name(argument):\n",
    "\n",
    "    body of function\n",
    "    return \n",
    "    \n",
    "    \n",
    " call function()   "
   ]
  },
  {
   "cell_type": "raw",
   "id": "60f5d4a6-f540-4590-9268-5a7122b3214d",
   "metadata": {},
   "source": [
    "def is a Keyword required to make a function\n"
   ]
  },
  {
   "cell_type": "code",
   "execution_count": 1,
   "id": "b8547a86-7c3e-443c-b3c1-7626d4023580",
   "metadata": {},
   "outputs": [
    {
     "name": "stdout",
     "output_type": "stream",
     "text": [
      "even\n"
     ]
    }
   ],
   "source": [
    "def even_odd (number):\n",
    "    if type(number)==int:\n",
    "        if number %2== 0:\n",
    "              return (\"even\")\n",
    "        else:\n",
    "                return (\"odd\")\n",
    "    else:\n",
    "            return(\"Not valid\")\n",
    "x=even_odd(10)\n",
    "print(x)\n"
   ]
  },
  {
   "cell_type": "raw",
   "id": "27777af1-f7d8-4c90-a8b3-8d28e3730a7d",
   "metadata": {},
   "source": [
    "In above program, we checked whether the number I passed to our function even_odd is even or odd?\n",
    "Ipassed number 10 to my function by calling it at line 9. After getting excuted it returned me the result \"even\""
   ]
  },
  {
   "cell_type": "raw",
   "id": "a3ee3547-c741-43cc-9602-da69b5394218",
   "metadata": {},
   "source": [
    "At line 1 I created even_odd function , and inside the brackets,the expected value we receive for number is called Argument.\n",
    "We cannot leave it empty because number is expecting a value so that further code can run.\n",
    "\n",
    "In python, we have four different kinds of Arguments, which i will be discussing further:-"
   ]
  },
  {
   "cell_type": "markdown",
   "id": "51a5d30a-9624-4d21-bc0b-f477d5e8dc08",
   "metadata": {},
   "source": [
    "<B>Default Argument</b>"
   ]
  },
  {
   "cell_type": "raw",
   "id": "c7056d5c-34fa-4d2b-ae86-92a8071c2486",
   "metadata": {},
   "source": [
    "We have to provide default value to our argumnet(s),incase if we dont pass any value to our function, it will still execute with default value"
   ]
  },
  {
   "cell_type": "code",
   "execution_count": 2,
   "id": "07ff5113-edb6-45f5-a63e-38ef72b7cc5b",
   "metadata": {},
   "outputs": [
    {
     "name": "stdout",
     "output_type": "stream",
     "text": [
      "8\n"
     ]
    }
   ],
   "source": [
    "def addition(a=3,b=5):\n",
    "    return a+b\n",
    "sum=addition()\n",
    "print(sum)"
   ]
  },
  {
   "cell_type": "raw",
   "id": "8637f84d-de65-40d0-a5dd-c64c925e399e",
   "metadata": {},
   "source": [
    "In above example I didnt passed any value to my arguments while calling function, it excuted the default values I set for my  arguments"
   ]
  },
  {
   "cell_type": "markdown",
   "id": "2045feef-8eff-4024-9e03-36489b3a1322",
   "metadata": {},
   "source": [
    "<B>Positional  Argument</b>"
   ]
  },
  {
   "cell_type": "code",
   "execution_count": 3,
   "id": "5130e55c-144d-4f76-acac-f6f83bf59a9f",
   "metadata": {},
   "outputs": [
    {
     "name": "stdout",
     "output_type": "stream",
     "text": [
      "15\n"
     ]
    }
   ],
   "source": [
    "def addition(a=3,b=5):\n",
    "    return a+b\n",
    "sum=addition(10,5)\n",
    "print(sum)"
   ]
  },
  {
   "cell_type": "raw",
   "id": "ebf2afd7-cc27-4715-b916-5a3fe6b102d2",
   "metadata": {},
   "source": [
    "In above example I passed 10,5 to my arguments, now 10 and 5 will go to function and will be assigned to a and b respectively. Now there is an order which was followed and 10 didnt get assigned to b and 5 didnt get assigned to a.\n",
    "This kind of value passing is known as Positional Argument"
   ]
  },
  {
   "cell_type": "markdown",
   "id": "2eee2a7b-2dde-4f04-8de2-ba5adfa218b0",
   "metadata": {},
   "source": [
    "<B>Keyword  Argument</b>"
   ]
  },
  {
   "cell_type": "code",
   "execution_count": 4,
   "id": "daedc40e-a7f2-412a-868d-e03201928f19",
   "metadata": {},
   "outputs": [
    {
     "name": "stdout",
     "output_type": "stream",
     "text": [
      "-5\n"
     ]
    }
   ],
   "source": [
    "def addition(a=3,b=5):\n",
    "    return a+b\n",
    "sum=addition(b=-10,a=5)\n",
    "print(sum)"
   ]
  },
  {
   "cell_type": "raw",
   "id": "2035e8dd-d9e8-410e-88a4-398c889136e9",
   "metadata": {},
   "source": [
    "Now, to override Positional Argument , we have have Keyword Argument.In this we specified values of variables when function was called.So, order will not matter in this type of argument."
   ]
  },
  {
   "cell_type": "markdown",
   "id": "18373d79-78be-4f30-9329-0c41e4cd2712",
   "metadata": {},
   "source": [
    "<B>Arbitrary Argument</b>"
   ]
  },
  {
   "cell_type": "raw",
   "id": "e276f94e-9b87-4fa0-a691-a6a8176fb503",
   "metadata": {},
   "source": [
    "So far we have seen there is no flexibility when we deal with arguments, if  I have two arguments in my function, then it is necessary for me to work with both of them.\n",
    "But, arbitrary arguments provides flexibility of working with as many arguments as i want"
   ]
  },
  {
   "cell_type": "code",
   "execution_count": 5,
   "id": "3a47c4e2-e06a-40f0-b427-ad968ca5ef57",
   "metadata": {},
   "outputs": [
    {
     "name": "stdout",
     "output_type": "stream",
     "text": [
      "15360\n",
      "<class 'tuple'>\n"
     ]
    }
   ],
   "source": [
    "def flex(*numbers):\n",
    "    product=1\n",
    "    for i in numbers:\n",
    "        product=product*i\n",
    "    print(product)\n",
    "    print(type(numbers))\n",
    "flex(2,4,6,8,4,5,2)"
   ]
  },
  {
   "cell_type": "raw",
   "id": "eed7230d-5641-4fab-8832-723bb31927dd",
   "metadata": {},
   "source": [
    "When I add * sign in front of argument ,it converts it to a tuple and makes our function ready to receive any number of values"
   ]
  },
  {
   "cell_type": "raw",
   "id": "fe4cae7f",
   "metadata": {},
   "source": [
    "End of Part-10"
   ]
  }
 ],
 "metadata": {
  "kernelspec": {
   "display_name": "Python 3 (ipykernel)",
   "language": "python",
   "name": "python3"
  },
  "language_info": {
   "codemirror_mode": {
    "name": "ipython",
    "version": 3
   },
   "file_extension": ".py",
   "mimetype": "text/x-python",
   "name": "python",
   "nbconvert_exporter": "python",
   "pygments_lexer": "ipython3",
   "version": "3.9.13"
  }
 },
 "nbformat": 4,
 "nbformat_minor": 5
}
