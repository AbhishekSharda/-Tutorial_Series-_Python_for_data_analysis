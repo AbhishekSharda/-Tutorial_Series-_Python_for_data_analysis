{
 "cells": [
  {
   "cell_type": "markdown",
   "id": "e08b4001-25f7-4d9c-bbbf-c356d935c70f",
   "metadata": {},
   "source": [
    "# STRINGS"
   ]
  },
  {
   "cell_type": "raw",
   "id": "38e20731-bbfe-438a-a29b-5cb7d092a0ca",
   "metadata": {},
   "source": [
    "Strings are sequence of characters,in python specifically, strings are sequence of Unicode Characters\n",
    "String is a very important dataype not only in python but also in any programming language,like java, where we make applications that can interact with users.(Application Programming language)"
   ]
  },
  {
   "cell_type": "raw",
   "id": "d3fb6b91",
   "metadata": {},
   "source": [
    "Different ways of writng strings"
   ]
  },
  {
   "cell_type": "code",
   "execution_count": 1,
   "id": "3a83cb2a-f5b1-43ff-be18-e945353b6d45",
   "metadata": {},
   "outputs": [
    {
     "name": "stdout",
     "output_type": "stream",
     "text": [
      "How is  it going?\n"
     ]
    }
   ],
   "source": [
    "# Creating Strings\n",
    "a=\"How is  it going?\"\n",
    "print(a)"
   ]
  },
  {
   "cell_type": "code",
   "execution_count": 2,
   "id": "e6757e9a-84c3-44a0-9c6d-c119633473e7",
   "metadata": {},
   "outputs": [
    {
     "name": "stdout",
     "output_type": "stream",
     "text": [
      "All good\n"
     ]
    }
   ],
   "source": [
    "b='All good'\n",
    "print(b)"
   ]
  },
  {
   "cell_type": "code",
   "execution_count": 3,
   "id": "570533e7-280b-41ce-9cdf-4043de35a7d6",
   "metadata": {},
   "outputs": [
    {
     "name": "stdout",
     "output_type": "stream",
     "text": [
      "How's everyone at home?\n"
     ]
    }
   ],
   "source": [
    "c=\"How's everyone at home?\"\n",
    "print(c)"
   ]
  },
  {
   "cell_type": "code",
   "execution_count": 4,
   "id": "5250bc79-fd10-4781-8cf6-4af82a17eb2a",
   "metadata": {},
   "outputs": [
    {
     "name": "stdout",
     "output_type": "stream",
     "text": [
      "\"Living the dream\"\n"
     ]
    }
   ],
   "source": [
    "d='\"Living the dream\"'\n",
    "print(d)"
   ]
  },
  {
   "cell_type": "code",
   "execution_count": 5,
   "id": "05889e6b-704b-4ee3-abc8-a56baf08def7",
   "metadata": {},
   "outputs": [
    {
     "name": "stdout",
     "output_type": "stream",
     "text": [
      "Hey\n",
      "Everyone "
     ]
    }
   ],
   "source": [
    "#Multiline string\n",
    "e=\"\"\"Hey\n",
    "Everyone\"\"\"\n",
    "print(e,end=' ')"
   ]
  },
  {
   "cell_type": "markdown",
   "id": "d82ec0ce-e04c-463c-80bb-74b46b3b7a69",
   "metadata": {},
   "source": [
    "### Accessing Substrings from string"
   ]
  },
  {
   "cell_type": "raw",
   "id": "aa574793-0e18-41e4-9f0f-2b2606eefa84",
   "metadata": {},
   "source": [
    "Every characer in a string has an index starting from 0 and running upto n-1 for the last caharacter, example\n",
    "in a string \"HELLO\", character H has an index 0 and character O has index 4, i.e. (n-1), so access it we can use:"
   ]
  },
  {
   "cell_type": "code",
   "execution_count": 6,
   "id": "02217e6b-88d2-4437-a241-ee05333a11b8",
   "metadata": {},
   "outputs": [
    {
     "name": "stdout",
     "output_type": "stream",
     "text": [
      "O\n"
     ]
    }
   ],
   "source": [
    "## Positive Indexing [0 to n-1] \n",
    "q=\"HELLO\"\n",
    "print(q[4])"
   ]
  },
  {
   "cell_type": "code",
   "execution_count": 7,
   "id": "892078a6-20a9-475e-9e40-2b56d4c71752",
   "metadata": {},
   "outputs": [
    {
     "name": "stdout",
     "output_type": "stream",
     "text": [
      "O\n"
     ]
    }
   ],
   "source": [
    "## Negative Indexing [-1 (from last character) to -n till first character]\n",
    "print(q[-1])"
   ]
  },
  {
   "cell_type": "code",
   "execution_count": 8,
   "id": "ae197e07-22e1-4380-a4c6-7b6050d5c77f",
   "metadata": {},
   "outputs": [
    {
     "name": "stdout",
     "output_type": "stream",
     "text": [
      "H\n"
     ]
    }
   ],
   "source": [
    "print(q[-5])"
   ]
  },
  {
   "cell_type": "code",
   "execution_count": 9,
   "id": "bf783f6f-280c-42f8-86f3-eddfa987339c",
   "metadata": {},
   "outputs": [
    {
     "data": {
      "text/plain": [
       "'Hello'"
      ]
     },
     "execution_count": 9,
     "metadata": {},
     "output_type": "execute_result"
    }
   ],
   "source": [
    "# Only getting Hello from entire sting\n",
    "w=\"Hello world\"\n",
    "w[0:5]"
   ]
  },
  {
   "cell_type": "code",
   "execution_count": 10,
   "id": "e56149f9-d41d-4d44-8197-da9d0a403dc4",
   "metadata": {},
   "outputs": [
    {
     "data": {
      "text/plain": [
       "'worl'"
      ]
     },
     "execution_count": 10,
     "metadata": {},
     "output_type": "execute_result"
    }
   ],
   "source": [
    "#Staritng from 5th character from end of string ,incrementing by 1 towards -1\n",
    "w[-5:-1:1]"
   ]
  },
  {
   "cell_type": "code",
   "execution_count": 11,
   "id": "1c03627e-4ca5-4d5b-b8ea-802cd20e29be",
   "metadata": {},
   "outputs": [
    {
     "data": {
      "text/plain": [
       "'dlrow olleH'"
      ]
     },
     "execution_count": 11,
     "metadata": {},
     "output_type": "execute_result"
    }
   ],
   "source": [
    "#Reversing the string\n",
    "w[::-1]"
   ]
  },
  {
   "cell_type": "code",
   "execution_count": 12,
   "id": "365ff914-5509-4a73-81b0-79ccd91f9ada",
   "metadata": {},
   "outputs": [
    {
     "data": {
      "text/plain": [
       "'dlro'"
      ]
     },
     "execution_count": 12,
     "metadata": {},
     "output_type": "execute_result"
    }
   ],
   "source": [
    "w[-1:-5:-1]"
   ]
  },
  {
   "cell_type": "markdown",
   "id": "7b3add38-f3a3-4b97-bdf8-78b93e93f943",
   "metadata": {},
   "source": [
    "<b>Editing and Deleting Strings in Python</b>"
   ]
  },
  {
   "cell_type": "markdown",
   "id": "07b21dc7-ebaf-4ed4-8a1f-7a74c43af9e7",
   "metadata": {},
   "source": [
    "Strings are immutable in python which means once the string is formed, we cannot make any changes\n",
    "We can change the entire string by assigning something new but cannot add more characters "
   ]
  },
  {
   "cell_type": "raw",
   "id": "4442f592-9652-4461-bbed-e444c6cefe6e",
   "metadata": {},
   "source": [
    "String can be deleted by using del command"
   ]
  },
  {
   "cell_type": "markdown",
   "id": "15121e4b-292a-44be-b013-5777b8b4ce28",
   "metadata": {},
   "source": [
    "<B>OPERATIONS ON STRINGS</B>"
   ]
  },
  {
   "cell_type": "code",
   "execution_count": 13,
   "id": "9bb2866e-42f5-4be6-ad69-a1185ada249b",
   "metadata": {},
   "outputs": [],
   "source": [
    " #ARITHMETIC OPERATORS"
   ]
  },
  {
   "cell_type": "raw",
   "id": "05b4c1a2-ac24-4118-8979-b46563b49c21",
   "metadata": {},
   "source": [
    "Adding strings; Concatination"
   ]
  },
  {
   "cell_type": "code",
   "execution_count": 14,
   "id": "772cf997-8a45-4ced-a241-88736f392079",
   "metadata": {},
   "outputs": [
    {
     "data": {
      "text/plain": [
       "'My name is Abhishek'"
      ]
     },
     "execution_count": 14,
     "metadata": {},
     "output_type": "execute_result"
    }
   ],
   "source": [
    "\"My name is\"+\" \"+\"Abhishek\""
   ]
  },
  {
   "cell_type": "code",
   "execution_count": 15,
   "id": "8e0b5a9a-4d62-4eef-83d4-547e25fd6881",
   "metadata": {},
   "outputs": [],
   "source": [
    "# Multiplication of string"
   ]
  },
  {
   "cell_type": "code",
   "execution_count": 16,
   "id": "f7739dd3-90dd-40d1-a88e-2d27f8c10af6",
   "metadata": {},
   "outputs": [
    {
     "data": {
      "text/plain": [
       "'Abhishek Abhishek Abhishek Abhishek '"
      ]
     },
     "execution_count": 16,
     "metadata": {},
     "output_type": "execute_result"
    }
   ],
   "source": [
    "\"Abhishek \"* 4"
   ]
  },
  {
   "cell_type": "code",
   "execution_count": 17,
   "id": "48db2031-444e-43a4-abfb-884fd685d6e2",
   "metadata": {},
   "outputs": [],
   "source": [
    "#RELATIONAL OPERATORS"
   ]
  },
  {
   "cell_type": "code",
   "execution_count": 18,
   "id": "cba11f85-aab9-4809-af1d-398f42ac80c7",
   "metadata": {},
   "outputs": [
    {
     "data": {
      "text/plain": [
       "False"
      ]
     },
     "execution_count": 18,
     "metadata": {},
     "output_type": "execute_result"
    }
   ],
   "source": [
    "\"Hey\"==\"Hello\""
   ]
  },
  {
   "cell_type": "code",
   "execution_count": 19,
   "id": "5d6b17ec-fd50-4992-a81a-326cbebe99fe",
   "metadata": {},
   "outputs": [
    {
     "data": {
      "text/plain": [
       "True"
      ]
     },
     "execution_count": 19,
     "metadata": {},
     "output_type": "execute_result"
    }
   ],
   "source": [
    "\"Hello\"!=\"Hey\""
   ]
  },
  {
   "cell_type": "code",
   "execution_count": 20,
   "id": "98db220d-5316-4bda-8676-ee15a5dd4bcb",
   "metadata": {},
   "outputs": [
    {
     "data": {
      "text/plain": [
       "False"
      ]
     },
     "execution_count": 20,
     "metadata": {},
     "output_type": "execute_result"
    }
   ],
   "source": [
    "# It is a Lexiographical Comparison\n",
    "\"Hello\">\"hey\""
   ]
  },
  {
   "cell_type": "markdown",
   "id": "a3bf5ac2-2562-4a51-bad0-eba7f3863dd7",
   "metadata": {},
   "source": [
    "Empty strings are FALSE in Python \n",
    "NON-Empty string are TRUE in python"
   ]
  },
  {
   "cell_type": "code",
   "execution_count": 21,
   "id": "4411f07b-9212-45f0-99cd-42db30698217",
   "metadata": {},
   "outputs": [
    {
     "data": {
      "text/plain": [
       "'hey'"
      ]
     },
     "execution_count": 21,
     "metadata": {},
     "output_type": "execute_result"
    }
   ],
   "source": [
    "\" \" and \"hey\""
   ]
  },
  {
   "cell_type": "markdown",
   "id": "3da1a187-348e-4844-8765-34fd083b7ee8",
   "metadata": {},
   "source": [
    "Loop on strings"
   ]
  },
  {
   "cell_type": "code",
   "execution_count": 22,
   "id": "9c813941-3018-4245-b484-30a1dff1c08a",
   "metadata": {},
   "outputs": [
    {
     "name": "stdout",
     "output_type": "stream",
     "text": [
      "H\n",
      "o\n",
      "w\n",
      "'\n",
      "s\n",
      " \n",
      "e\n",
      "v\n",
      "e\n",
      "r\n",
      "y\n",
      "o\n",
      "n\n",
      "e\n",
      " \n",
      "a\n",
      "t\n",
      " \n",
      "h\n",
      "o\n",
      "m\n",
      "e\n",
      "?\n"
     ]
    }
   ],
   "source": [
    "for i in c:\n",
    "    print(i)"
   ]
  },
  {
   "cell_type": "code",
   "execution_count": 23,
   "id": "d884fc22-8eba-491d-b139-9a761217828b",
   "metadata": {},
   "outputs": [],
   "source": [
    "#Membership Operator"
   ]
  },
  {
   "cell_type": "code",
   "execution_count": 24,
   "id": "9722b224-6f68-42ca-b22f-710db4146fa0",
   "metadata": {},
   "outputs": [
    {
     "data": {
      "text/plain": [
       "True"
      ]
     },
     "execution_count": 24,
     "metadata": {},
     "output_type": "execute_result"
    }
   ],
   "source": [
    "'h' in c"
   ]
  },
  {
   "cell_type": "code",
   "execution_count": 25,
   "id": "a0421900-b842-48e1-b603-6df24efbe5ca",
   "metadata": {},
   "outputs": [
    {
     "data": {
      "text/plain": [
       "True"
      ]
     },
     "execution_count": 25,
     "metadata": {},
     "output_type": "execute_result"
    }
   ],
   "source": [
    "'at' in c"
   ]
  },
  {
   "cell_type": "code",
   "execution_count": 26,
   "id": "306d7ce3-5d1f-401f-9128-812878328462",
   "metadata": {},
   "outputs": [
    {
     "data": {
      "text/plain": [
       "True"
      ]
     },
     "execution_count": 26,
     "metadata": {},
     "output_type": "execute_result"
    }
   ],
   "source": [
    "'home' in c"
   ]
  },
  {
   "cell_type": "code",
   "execution_count": 27,
   "id": "643d10ca-17b9-4e60-8a2b-304ce33e29fe",
   "metadata": {},
   "outputs": [
    {
     "data": {
      "text/plain": [
       "False"
      ]
     },
     "execution_count": 27,
     "metadata": {},
     "output_type": "execute_result"
    }
   ],
   "source": [
    "'house' in c"
   ]
  },
  {
   "cell_type": "markdown",
   "id": "e18c7798-c6fc-4e2f-ae6d-e1faeef9fc23",
   "metadata": {},
   "source": [
    "<b>Important String Functions</b>"
   ]
  },
  {
   "cell_type": "code",
   "execution_count": 28,
   "id": "8407b7e1-b895-4eeb-ae71-c9cd8bf07059",
   "metadata": {},
   "outputs": [
    {
     "data": {
      "text/plain": [
       "13"
      ]
     },
     "execution_count": 28,
     "metadata": {},
     "output_type": "execute_result"
    }
   ],
   "source": [
    "# length of string \n",
    "a=\"extraordinary\"\n",
    "len(a)"
   ]
  },
  {
   "cell_type": "code",
   "execution_count": 29,
   "id": "2f8c2be3-c468-429a-960b-989c79ac632a",
   "metadata": {},
   "outputs": [
    {
     "data": {
      "text/plain": [
       "'y'"
      ]
     },
     "execution_count": 29,
     "metadata": {},
     "output_type": "execute_result"
    }
   ],
   "source": [
    "#maximum character\n",
    "max(a)"
   ]
  },
  {
   "cell_type": "code",
   "execution_count": 30,
   "id": "99718550-34c6-4d72-a949-14f204a24309",
   "metadata": {},
   "outputs": [
    {
     "data": {
      "text/plain": [
       "'a'"
      ]
     },
     "execution_count": 30,
     "metadata": {},
     "output_type": "execute_result"
    }
   ],
   "source": [
    "# minimum character\n",
    "min(a)"
   ]
  },
  {
   "cell_type": "code",
   "execution_count": 31,
   "id": "dd92bb4e-657e-40aa-8566-8ab57884b21b",
   "metadata": {},
   "outputs": [],
   "source": [
    "# Sort character (based on ASCII code) in ascending order or descending order "
   ]
  },
  {
   "cell_type": "code",
   "execution_count": 32,
   "id": "43f813d9-aa98-4ea4-a514-ef990db479cd",
   "metadata": {},
   "outputs": [
    {
     "data": {
      "text/plain": [
       "['y', 'x', 't', 'r', 'r', 'r', 'o', 'n', 'i', 'e', 'd', 'a', 'a']"
      ]
     },
     "execution_count": 32,
     "metadata": {},
     "output_type": "execute_result"
    }
   ],
   "source": [
    "sorted(a,reverse=True)"
   ]
  },
  {
   "cell_type": "code",
   "execution_count": 33,
   "id": "815b2d69-39eb-4629-acee-ea57ddfd9e34",
   "metadata": {},
   "outputs": [
    {
     "data": {
      "text/plain": [
       "'Extraordinary'"
      ]
     },
     "execution_count": 33,
     "metadata": {},
     "output_type": "execute_result"
    }
   ],
   "source": [
    "# CAPITALIZE- convert first character to capital\n",
    "a.capitalize()"
   ]
  },
  {
   "cell_type": "code",
   "execution_count": 34,
   "id": "f1f27b1a-1d05-4d05-8725-3a49655513d8",
   "metadata": {},
   "outputs": [
    {
     "data": {
      "text/plain": [
       "'Extraordinary'"
      ]
     },
     "execution_count": 34,
     "metadata": {},
     "output_type": "execute_result"
    }
   ],
   "source": [
    "# title\n",
    "a.title()"
   ]
  },
  {
   "cell_type": "code",
   "execution_count": 35,
   "id": "8262a354-6ae3-44b9-a29f-1b249a6576fc",
   "metadata": {},
   "outputs": [
    {
     "data": {
      "text/plain": [
       "'EXTRAORDINARY'"
      ]
     },
     "execution_count": 35,
     "metadata": {},
     "output_type": "execute_result"
    }
   ],
   "source": [
    "#Upper- coverts string to upper case\n",
    "a.upper()"
   ]
  },
  {
   "cell_type": "code",
   "execution_count": 36,
   "id": "1dd8a65c-56c2-412f-910e-01e6ad547811",
   "metadata": {},
   "outputs": [
    {
     "data": {
      "text/plain": [
       "'extraordinary'"
      ]
     },
     "execution_count": 36,
     "metadata": {},
     "output_type": "execute_result"
    }
   ],
   "source": [
    "#lower- coverts string to lower case\n",
    "a.lower()"
   ]
  },
  {
   "cell_type": "code",
   "execution_count": 37,
   "id": "44ba16cf-da68-4b25-a2f0-b66ed4c86a8d",
   "metadata": {},
   "outputs": [
    {
     "data": {
      "text/plain": [
       "'aMeRiCa'"
      ]
     },
     "execution_count": 37,
     "metadata": {},
     "output_type": "execute_result"
    }
   ],
   "source": [
    "#swapcase- converts cases \n",
    "b=\"AmErIcA\"\n",
    "b.swapcase()"
   ]
  },
  {
   "cell_type": "markdown",
   "id": "6cfbc1c5-f872-48f1-b532-2922d2f1172e",
   "metadata": {},
   "source": [
    "<B>COUNT</B>"
   ]
  },
  {
   "cell_type": "code",
   "execution_count": 38,
   "id": "59ec2068-5bb3-4a5c-9c28-fafc7533b4eb",
   "metadata": {},
   "outputs": [],
   "source": [
    "# Count of Substrings in string"
   ]
  },
  {
   "cell_type": "code",
   "execution_count": 39,
   "id": "7eaeaf24-b35b-4227-bdb5-97a03a39f1bf",
   "metadata": {},
   "outputs": [
    {
     "data": {
      "text/plain": [
       "1"
      ]
     },
     "execution_count": 39,
     "metadata": {},
     "output_type": "execute_result"
    }
   ],
   "source": [
    "\"hey, its a hot day today\".count(\"hey\")"
   ]
  },
  {
   "cell_type": "markdown",
   "id": "ca13eb01-9005-4053-a038-9adf24acd55f",
   "metadata": {},
   "source": [
    "<b>Find/Index</b>"
   ]
  },
  {
   "cell_type": "code",
   "execution_count": 40,
   "id": "83bf8d6a-4b0b-40cd-b2fc-e017455cd7e4",
   "metadata": {},
   "outputs": [
    {
     "data": {
      "text/plain": [
       "0"
      ]
     },
     "execution_count": 40,
     "metadata": {},
     "output_type": "execute_result"
    }
   ],
   "source": [
    "#Finds the index of substring\n",
    "\"hey, its a hot day today\".find(\"hey\")"
   ]
  },
  {
   "cell_type": "code",
   "execution_count": 41,
   "id": "2dd6938d-a8ea-4342-8280-37bb3bb8fad3",
   "metadata": {},
   "outputs": [
    {
     "data": {
      "text/plain": [
       "0"
      ]
     },
     "execution_count": 41,
     "metadata": {},
     "output_type": "execute_result"
    }
   ],
   "source": [
    "\"hey, its a hot day today\".index(\"hey\")"
   ]
  },
  {
   "cell_type": "markdown",
   "id": "65f0b36a-1cd9-4e36-bff4-89381c14bed8",
   "metadata": {},
   "source": [
    "<b>Split</b>"
   ]
  },
  {
   "cell_type": "code",
   "execution_count": 42,
   "id": "5114e1f6-de1a-4a1a-a6c3-3c8b5b58c440",
   "metadata": {},
   "outputs": [
    {
     "data": {
      "text/plain": [
       "['Russia', 'is', 'the', 'largest', 'country', 'in', 'the', 'world']"
      ]
     },
     "execution_count": 42,
     "metadata": {},
     "output_type": "execute_result"
    }
   ],
   "source": [
    "\"Russia is the largest country in the world\".split()"
   ]
  },
  {
   "cell_type": "code",
   "execution_count": 43,
   "id": "3dcfe8f3-029d-43a3-98fd-9aa44c6d9eb3",
   "metadata": {},
   "outputs": [
    {
     "data": {
      "text/plain": [
       "['Russia is the ', ' country in the world']"
      ]
     },
     "execution_count": 43,
     "metadata": {},
     "output_type": "execute_result"
    }
   ],
   "source": [
    "\"Russia is the largest country in the world\".split(\"largest\")"
   ]
  },
  {
   "cell_type": "markdown",
   "id": "b7470f44-94b7-47cd-afca-de455250bbe0",
   "metadata": {},
   "source": [
    "<b>Join</b>"
   ]
  },
  {
   "cell_type": "code",
   "execution_count": 44,
   "id": "2147ef7b-62de-47c1-a668-440c087f34c1",
   "metadata": {},
   "outputs": [
    {
     "data": {
      "text/plain": [
       "'Russia is the largest country in the world'"
      ]
     },
     "execution_count": 44,
     "metadata": {},
     "output_type": "execute_result"
    }
   ],
   "source": [
    "## Convert list toa string with .join\n",
    "\" \".join(['Russia', 'is', 'the', 'largest', 'country', 'in', 'the', 'world'])"
   ]
  },
  {
   "cell_type": "markdown",
   "id": "142f10fe-0b2f-4c1a-b2ad-d21e7eae8e07",
   "metadata": {},
   "source": [
    "<B>Replace</b>"
   ]
  },
  {
   "cell_type": "code",
   "execution_count": 45,
   "id": "02043b9d-0595-4e25-aa11-a15902643fb4",
   "metadata": {},
   "outputs": [
    {
     "data": {
      "text/plain": [
       "'Russia is the largest country'"
      ]
     },
     "execution_count": 45,
     "metadata": {},
     "output_type": "execute_result"
    }
   ],
   "source": [
    "#Replaces value with some other value\n",
    "\"Canada is the largest country\".replace(\"Canada\",\"Russia\")"
   ]
  },
  {
   "cell_type": "markdown",
   "id": "63933a95-fc1b-4589-95b7-9a12899c6f7e",
   "metadata": {},
   "source": [
    "<b>Strip</b>"
   ]
  },
  {
   "cell_type": "code",
   "execution_count": 46,
   "id": "7daa21b7-cb29-486c-b56a-e98bd68a6514",
   "metadata": {},
   "outputs": [
    {
     "data": {
      "text/plain": [
       "'Russia is the largest country'"
      ]
     },
     "execution_count": 46,
     "metadata": {},
     "output_type": "execute_result"
    }
   ],
   "source": [
    "#Gets rid of extra spaces,trailing or leading\n",
    "'     Russia is the largest country    '.strip()"
   ]
  },
  {
   "cell_type": "markdown",
   "id": "ad2e6229",
   "metadata": {},
   "source": [
    "### End of part-5"
   ]
  }
 ],
 "metadata": {
  "kernelspec": {
   "display_name": "Python 3 (ipykernel)",
   "language": "python",
   "name": "python3"
  },
  "language_info": {
   "codemirror_mode": {
    "name": "ipython",
    "version": 3
   },
   "file_extension": ".py",
   "mimetype": "text/x-python",
   "name": "python",
   "nbconvert_exporter": "python",
   "pygments_lexer": "ipython3",
   "version": "3.9.13"
  }
 },
 "nbformat": 4,
 "nbformat_minor": 5
}
