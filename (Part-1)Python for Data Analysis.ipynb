{
 "cells": [
  {
   "cell_type": "markdown",
   "id": "b5c8c858-82c7-4821-bd8a-32d678c3b1fd",
   "metadata": {},
   "source": [
    "# Intro for Python and material we will be covering"
   ]
  },
  {
   "cell_type": "markdown",
   "id": "09c4cb49-e815-4625-943e-e5ea7be59ab2",
   "metadata": {},
   "source": [
    "        Starting  Python for Data Analysis Journey with print command\n",
    "        Unlike languages like C,C++,Java,etc. we dont have to import header files\n",
    "        We simply type built-in print function and pass the value we want to be printed\n",
    "        We can print any data type not just strings as  we will see below"
   ]
  },
  {
   "cell_type": "code",
   "execution_count": 1,
   "id": "7a94f052-7bdd-4584-ba8b-d7df72a6a4bb",
   "metadata": {},
   "outputs": [
    {
     "name": "stdout",
     "output_type": "stream",
     "text": [
      "Hello World\n"
     ]
    }
   ],
   "source": [
    "## Passing string to print function \n",
    "print(\"Hello World\")"
   ]
  },
  {
   "cell_type": "code",
   "execution_count": 2,
   "id": "14b66899-49c0-46dd-a54e-eee3a1279d51",
   "metadata": {},
   "outputs": [
    {
     "name": "stdout",
     "output_type": "stream",
     "text": [
      "7\n"
     ]
    }
   ],
   "source": [
    "###  Passing number to print function\n",
    "print(7)"
   ]
  },
  {
   "cell_type": "code",
   "execution_count": 3,
   "id": "105c5631-6310-4230-99b4-df537c36e679",
   "metadata": {},
   "outputs": [
    {
     "name": "stdout",
     "output_type": "stream",
     "text": [
      "7.56\n"
     ]
    }
   ],
   "source": [
    "## Passing float to print function\n",
    "print(7.56)"
   ]
  },
  {
   "cell_type": "code",
   "execution_count": 4,
   "id": "061786d3-26f5-455d-8c17-1bbeb4a24ad2",
   "metadata": {},
   "outputs": [
    {
     "name": "stdout",
     "output_type": "stream",
     "text": [
      "True\n",
      "False\n"
     ]
    }
   ],
   "source": [
    "## Passing  Boolean to print function \n",
    "print(True)\n",
    "print(False)"
   ]
  },
  {
   "cell_type": "code",
   "execution_count": 5,
   "id": "c151f111-f18e-475e-aa19-1145858a54ce",
   "metadata": {},
   "outputs": [
    {
     "name": "stdout",
     "output_type": "stream",
     "text": [
      "Canada India USA\n"
     ]
    }
   ],
   "source": [
    "### We can print many values using print Command , we only need to separate values by using Comma \n",
    "print(\"Canada\",\"India\",\"USA\")"
   ]
  },
  {
   "cell_type": "code",
   "execution_count": 6,
   "id": "6d116f2c-81ae-4ea3-9128-3bb9927157ad",
   "metadata": {},
   "outputs": [
    {
     "name": "stdout",
     "output_type": "stream",
     "text": [
      "My gpa for last semester was 3.7 out of 4\n"
     ]
    }
   ],
   "source": [
    "### We can print many values with different Data Types as well using print Command , we only need to separate values by using Comma\n",
    "print(\"My gpa for last semester was\",3.7,\"out of\",4)"
   ]
  },
  {
   "cell_type": "markdown",
   "id": "375f6ac4-3051-4fdb-9be7-99a4fb297aad",
   "metadata": {},
   "source": [
    "In last code i made use of  String,Float,String again and Integer to print diffrent data types using same print command.Values MUST be separated by commas"
   ]
  },
  {
   "cell_type": "code",
   "execution_count": 7,
   "id": "4cf04934-de3b-40a6-92e0-cdd3b2d8ba13",
   "metadata": {},
   "outputs": [],
   "source": [
    "### 2 important parameters of print Command Sep and end\n"
   ]
  },
  {
   "cell_type": "code",
   "execution_count": 8,
   "id": "4c72878e-c43d-4aef-8b58-d1ec4b4afd43",
   "metadata": {},
   "outputs": [
    {
     "name": "stdout",
     "output_type": "stream",
     "text": [
      "Richest man in the world in 2023 is Bernard Arnault /Net worth in US dollars /190 /billion\n"
     ]
    }
   ],
   "source": [
    "## Using sep we can set how our printing will separate the result,By default it is \" \" (space).\n",
    "print(\"Richest man in the world in 2023 is Bernard Arnault\", \"Net worth in US dollars\",190,\"billion\",sep=\" /\" )"
   ]
  },
  {
   "cell_type": "code",
   "execution_count": 9,
   "id": "0df0d218-807f-4cb8-a1f9-0dd57604aaf0",
   "metadata": {},
   "outputs": [
    {
     "name": "stdout",
     "output_type": "stream",
     "text": [
      "hello my name is abhishek\n"
     ]
    }
   ],
   "source": [
    "## Using end we can set how our printing will end at that particular line ,By default it is \" \\n\" (next line).\n",
    "print('hello',end=\" \")\n",
    "print (\"my name is abhishek\")"
   ]
  },
  {
   "cell_type": "markdown",
   "id": "06ea88db-e356-4f5e-b386-e5e5b18c8fa9",
   "metadata": {},
   "source": [
    "<i>We changed end value to blank space instead of \\n next line, so once the first line finish printing, we will see a space instead of cursor going to next line</i>"
   ]
  },
  {
   "cell_type": "markdown",
   "id": "e93c81f8-7810-4dc8-b0bf-b38a8b87327c",
   "metadata": {},
   "source": [
    "<b>Python supports 3 categories of data types:</b>\n",
    "\n",
    "    * Basic Types-(int,float,complex,boolean and string)\n",
    "    * Container Types- (List,Sets,Tuples and Dictionary) - We will be exploring these types in great detail \n",
    "    * User-Defined Types- Class\n"
   ]
  },
  {
   "cell_type": "markdown",
   "id": "0a96ade2-2b05-4c17-b9e6-c28786cef110",
   "metadata": {},
   "source": [
    "### Variables- <h6>to store the values in our code, we make use of variables, \n",
    "    Unlike C,java etc. we dont have to define data type when we are creating a variable.\n",
    "    Python is intelligent enough to understand what data type we are passing to the variable this is called  Dynamic Typing </h6>\n"
   ]
  },
  {
   "cell_type": "code",
   "execution_count": 10,
   "id": "641b5973-d7e5-4c95-beb6-48762d44752c",
   "metadata": {},
   "outputs": [
    {
     "name": "stdout",
     "output_type": "stream",
     "text": [
      "Apple\n"
     ]
    }
   ],
   "source": [
    "fruit=\"Apple\"\n",
    "print(fruit)"
   ]
  },
  {
   "cell_type": "code",
   "execution_count": 11,
   "id": "61b884bb-93ab-44e2-8afa-314c32e0aac6",
   "metadata": {},
   "outputs": [
    {
     "name": "stdout",
     "output_type": "stream",
     "text": [
      "Orange\n"
     ]
    }
   ],
   "source": [
    "## we can easily change  value of our variable in the program\n",
    "fruit=\"Orange\"\n",
    "print(fruit)"
   ]
  },
  {
   "cell_type": "raw",
   "id": "3657480b-e326-4126-b771-14281513446b",
   "metadata": {},
   "source": [
    " We can also provide different datatype  to the same variable, this feature is known as Dynamic Binding,\n",
    " which means in layman's language  that our variable is not bounded by any particular datatype "
   ]
  },
  {
   "cell_type": "code",
   "execution_count": 12,
   "id": "65fce3fc-2ef3-4b35-96e7-d209eb7c13e3",
   "metadata": {},
   "outputs": [
    {
     "name": "stdout",
     "output_type": "stream",
     "text": [
      "1000\n"
     ]
    }
   ],
   "source": [
    "fruit=1000\n",
    "print(fruit)"
   ]
  },
  {
   "cell_type": "code",
   "execution_count": 13,
   "id": "aa6cd5a1-7443-4162-91f5-04a69ec7cd2b",
   "metadata": {},
   "outputs": [
    {
     "name": "stdout",
     "output_type": "stream",
     "text": [
      "123\n",
      "365\n",
      "210\n"
     ]
    }
   ],
   "source": [
    "### special syntax, Declaring multiple variables in a single line separated by semi colon\n",
    "a=123; b=365; c=210\n",
    "##or \n",
    "a,b,c=123,365,210\n",
    "print(a)\n",
    "print(b)\n",
    "print(c)"
   ]
  },
  {
   "cell_type": "code",
   "execution_count": 14,
   "id": "5cf19395-a04a-4129-9407-338c8ea6df98",
   "metadata": {},
   "outputs": [
    {
     "name": "stdout",
     "output_type": "stream",
     "text": [
      "19 19 19\n"
     ]
    }
   ],
   "source": [
    "a=b=c=19\n",
    "print(a,b,c)"
   ]
  },
  {
   "cell_type": "markdown",
   "id": "26ce93ec",
   "metadata": {},
   "source": [
    "### End of part-1"
   ]
  }
 ],
 "metadata": {
  "kernelspec": {
   "display_name": "Python 3 (ipykernel)",
   "language": "python",
   "name": "python3"
  },
  "language_info": {
   "codemirror_mode": {
    "name": "ipython",
    "version": 3
   },
   "file_extension": ".py",
   "mimetype": "text/x-python",
   "name": "python",
   "nbconvert_exporter": "python",
   "pygments_lexer": "ipython3",
   "version": "3.9.13"
  }
 },
 "nbformat": 4,
 "nbformat_minor": 5
}
