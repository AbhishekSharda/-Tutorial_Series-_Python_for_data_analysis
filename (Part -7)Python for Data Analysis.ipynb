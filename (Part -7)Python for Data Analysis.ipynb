{
 "cells": [
  {
   "cell_type": "markdown",
   "id": "9218d6f3-acd8-46e9-9c82-434b3a4c9965",
   "metadata": {},
   "source": [
    "# SETS"
   ]
  },
  {
   "cell_type": "raw",
   "id": "08b5dff6-8410-49ca-adee-9249624b8cfd",
   "metadata": {},
   "source": [
    "Important rules related to sets:-\n",
    "1.Sets does not allow duplicates\n",
    "2.Sets dont have any indexing/slicing\n",
    "3.Sets dont allow mutable data types\n",
    "4.Set itself is a mutable datatype"
   ]
  },
  {
   "cell_type": "code",
   "execution_count": 1,
   "id": "1666b109-beaf-4fea-9d6f-a4524bacf418",
   "metadata": {},
   "outputs": [
    {
     "data": {
      "text/plain": [
       "set"
      ]
     },
     "execution_count": 1,
     "metadata": {},
     "output_type": "execute_result"
    }
   ],
   "source": [
    "#For empty set\n",
    "a=set()\n",
    "type(a)"
   ]
  },
  {
   "cell_type": "code",
   "execution_count": 2,
   "id": "85b90c83-edc0-4e8c-a20a-c27ae4013776",
   "metadata": {},
   "outputs": [
    {
     "name": "stdout",
     "output_type": "stream",
     "text": [
      "{1, 2, 3, 4, 5}\n",
      "{32, 'abhishek', 2.33}\n"
     ]
    }
   ],
   "source": [
    "a1={1,2,3,4,5}\n",
    "a2={\"abhishek\",32,2.33}\n",
    "print(a1)\n",
    "print(a2)"
   ]
  },
  {
   "cell_type": "code",
   "execution_count": 3,
   "id": "93fbbf9f-e454-4e3e-95b3-68d6f43feec5",
   "metadata": {},
   "outputs": [
    {
     "name": "stdout",
     "output_type": "stream",
     "text": [
      "{4, 5.5, 6}\n"
     ]
    }
   ],
   "source": [
    "#Sets dont allow duplicates\n",
    "a4={5.5,5.5,6,6,4,4}\n",
    "print(a4)"
   ]
  },
  {
   "cell_type": "code",
   "execution_count": 4,
   "id": "d817e396-d413-4c3f-928e-8d3396f2579d",
   "metadata": {},
   "outputs": [],
   "source": [
    "#We cannot access or edit items from sets, but we can add items."
   ]
  },
  {
   "cell_type": "code",
   "execution_count": 5,
   "id": "ba5a1450-0bbe-45d9-ad8b-b77eeb1f83e4",
   "metadata": {},
   "outputs": [
    {
     "data": {
      "text/plain": [
       "{4, 5.5, 6, 7878}"
      ]
     },
     "execution_count": 5,
     "metadata": {},
     "output_type": "execute_result"
    }
   ],
   "source": [
    "a4.add(7878)\n",
    "a4"
   ]
  },
  {
   "cell_type": "markdown",
   "id": "fee4e26d-91fd-4639-8a19-af0535cc96fe",
   "metadata": {},
   "source": [
    "We can delete entire set using del"
   ]
  },
  {
   "cell_type": "code",
   "execution_count": 6,
   "id": "224e2d92-1eed-45d8-94a5-140fbc5824a9",
   "metadata": {},
   "outputs": [
    {
     "ename": "NameError",
     "evalue": "name 'a5' is not defined",
     "output_type": "error",
     "traceback": [
      "\u001b[1;31m---------------------------------------------------------------------------\u001b[0m",
      "\u001b[1;31mNameError\u001b[0m                                 Traceback (most recent call last)",
      "\u001b[1;32m~\\AppData\\Local\\Temp\\ipykernel_8844\\2866168565.py\u001b[0m in \u001b[0;36m<module>\u001b[1;34m\u001b[0m\n\u001b[0;32m      2\u001b[0m \u001b[0ma5\u001b[0m\u001b[1;33m=\u001b[0m\u001b[1;33m{\u001b[0m\u001b[1;36m3\u001b[0m\u001b[1;33m,\u001b[0m\u001b[1;36m2\u001b[0m\u001b[1;33m,\u001b[0m\u001b[1;36m4\u001b[0m\u001b[1;33m,\u001b[0m\u001b[1;36m5\u001b[0m\u001b[1;33m}\u001b[0m\u001b[1;33m\u001b[0m\u001b[1;33m\u001b[0m\u001b[0m\n\u001b[0;32m      3\u001b[0m \u001b[1;32mdel\u001b[0m\u001b[1;33m(\u001b[0m\u001b[0ma5\u001b[0m\u001b[1;33m)\u001b[0m\u001b[1;33m\u001b[0m\u001b[1;33m\u001b[0m\u001b[0m\n\u001b[1;32m----> 4\u001b[1;33m \u001b[0ma5\u001b[0m\u001b[1;33m\u001b[0m\u001b[1;33m\u001b[0m\u001b[0m\n\u001b[0m",
      "\u001b[1;31mNameError\u001b[0m: name 'a5' is not defined"
     ]
    }
   ],
   "source": [
    "#Deleting a set\n",
    "a5={3,2,4,5}\n",
    "del(a5)\n",
    "a5"
   ]
  },
  {
   "cell_type": "code",
   "execution_count": 7,
   "id": "61275710-1dc8-4136-9c4a-e8863435629c",
   "metadata": {},
   "outputs": [
    {
     "name": "stdout",
     "output_type": "stream",
     "text": [
      "{7878, 4, 6}\n"
     ]
    }
   ],
   "source": [
    "#Removing from set\n",
    "a4.remove(5.5)\n",
    "print(a4)"
   ]
  },
  {
   "cell_type": "code",
   "execution_count": 8,
   "id": "8da5e3d1-78f6-4605-996d-ba88628519dd",
   "metadata": {},
   "outputs": [
    {
     "data": {
      "text/plain": [
       "7878"
      ]
     },
     "execution_count": 8,
     "metadata": {},
     "output_type": "execute_result"
    }
   ],
   "source": [
    "#POP removes last item from set based on hashing\n",
    "a4.pop()"
   ]
  },
  {
   "cell_type": "code",
   "execution_count": 9,
   "id": "9a5b6935-c03a-4433-a90f-7b62ef7c36ed",
   "metadata": {},
   "outputs": [],
   "source": [
    "# Set Operations\n",
    "set1={1,2,3,4,5,6,7}\n",
    "set2={5,4,6,7,8,2,3}\n"
   ]
  },
  {
   "cell_type": "raw",
   "id": "f883f55d-8909-4d67-8cea-5bdbd661212a",
   "metadata": {},
   "source": [
    "We cannot concatenate or multiply sets, we can use loops and membership operators on sets"
   ]
  },
  {
   "cell_type": "markdown",
   "id": "3f82f9b8",
   "metadata": {},
   "source": [
    "### Operations specifc to sets"
   ]
  },
  {
   "cell_type": "code",
   "execution_count": 10,
   "id": "b3583a05-a5f5-4f1c-85c6-0781fdbb1914",
   "metadata": {},
   "outputs": [
    {
     "data": {
      "text/plain": [
       "{1, 2, 3, 4, 5, 6, 7, 8}"
      ]
     },
     "execution_count": 10,
     "metadata": {},
     "output_type": "execute_result"
    }
   ],
   "source": [
    "#Union  - unique in both sets\n",
    "set1.union(set2)"
   ]
  },
  {
   "cell_type": "code",
   "execution_count": 11,
   "id": "772d81f5-136e-4ea8-b55d-cbb4e788e9f8",
   "metadata": {},
   "outputs": [],
   "source": [
    "#intersction- Common in both sets"
   ]
  },
  {
   "cell_type": "code",
   "execution_count": 12,
   "id": "e63d32ae-76c8-4c22-82a5-ed1654d1c4de",
   "metadata": {},
   "outputs": [
    {
     "data": {
      "text/plain": [
       "{2, 3, 4, 5, 6, 7}"
      ]
     },
     "execution_count": 12,
     "metadata": {},
     "output_type": "execute_result"
    }
   ],
   "source": [
    "set1.intersection(set2)"
   ]
  },
  {
   "cell_type": "code",
   "execution_count": 13,
   "id": "872b3cde-d613-4a50-86de-8db2fd39d59a",
   "metadata": {},
   "outputs": [
    {
     "data": {
      "text/plain": [
       "{1}"
      ]
     },
     "execution_count": 13,
     "metadata": {},
     "output_type": "execute_result"
    }
   ],
   "source": [
    "# difference- items in set1 and not in set2 \n",
    "set1.difference(set2)"
   ]
  },
  {
   "cell_type": "code",
   "execution_count": 14,
   "id": "03b13c00-f7a1-4098-8de8-2ff313f1732f",
   "metadata": {},
   "outputs": [
    {
     "data": {
      "text/plain": [
       "{8}"
      ]
     },
     "execution_count": 14,
     "metadata": {},
     "output_type": "execute_result"
    }
   ],
   "source": [
    "set2.difference(set1)"
   ]
  },
  {
   "cell_type": "code",
   "execution_count": 15,
   "id": "c997011b-eeb2-4837-906a-f77983bc49d1",
   "metadata": {},
   "outputs": [
    {
     "data": {
      "text/plain": [
       "{1, 8}"
      ]
     },
     "execution_count": 15,
     "metadata": {},
     "output_type": "execute_result"
    }
   ],
   "source": [
    "# symmetric_difference - Not present in both \n",
    "set1.symmetric_difference(set2)"
   ]
  },
  {
   "cell_type": "raw",
   "id": "9af73619",
   "metadata": {},
   "source": [
    "END OF PART-7"
   ]
  }
 ],
 "metadata": {
  "kernelspec": {
   "display_name": "Python 3 (ipykernel)",
   "language": "python",
   "name": "python3"
  },
  "language_info": {
   "codemirror_mode": {
    "name": "ipython",
    "version": 3
   },
   "file_extension": ".py",
   "mimetype": "text/x-python",
   "name": "python",
   "nbconvert_exporter": "python",
   "pygments_lexer": "ipython3",
   "version": "3.9.13"
  }
 },
 "nbformat": 4,
 "nbformat_minor": 5
}
