{
 "cells": [
  {
   "cell_type": "markdown",
   "id": "55a4586c-bb22-4ed3-9ea5-effc2d902e61",
   "metadata": {},
   "source": [
    "# LOOPS"
   ]
  },
  {
   "cell_type": "markdown",
   "id": "e8871390-0db6-4d78-9072-90930e278585",
   "metadata": {},
   "source": [
    "Understanding loops in easy words:-\n",
    "In order to avoid coding same kind of code block over and over again,(think of amazon which displays so many address as we move down the website),\n",
    "we can write a single code block and pass it to a function called loop, which keep repeating the code for us for as long as our condition is satisfied"
   ]
  },
  {
   "cell_type": "markdown",
   "id": "17d51ff4-e5b1-4b20-96b5-b916273edc54",
   "metadata": {},
   "source": [
    "## while loop syntax\n",
    "while condition:\n",
    "\n",
    "    code\n",
    "    "
   ]
  },
  {
   "cell_type": "code",
   "execution_count": 1,
   "id": "0e525350-4cc7-451f-bc78-56092946d677",
   "metadata": {},
   "outputs": [
    {
     "name": "stdout",
     "output_type": "stream",
     "text": [
      "enter the number4\n",
      "4\n",
      "8\n",
      "12\n",
      "16\n"
     ]
    }
   ],
   "source": [
    "number=int(input(\"enter the number\"))\n",
    "i=1 \n",
    "while i<5:\n",
    "    print(number*i)\n",
    "    i+=1"
   ]
  },
  {
   "cell_type": "markdown",
   "id": "a978a3b9-b3df-42bf-9702-f0c3b4f73489",
   "metadata": {},
   "source": [
    "## IF-ELSE"
   ]
  },
  {
   "cell_type": "markdown",
   "id": "6e0a7555-3f38-4123-9aee-eefd305923b5",
   "metadata": {},
   "source": [
    "    IF-ELSE STATEMENT: Its a conditional loop, incase the if condition is satisfied then if block will execute,otherwise else block executes"
   ]
  },
  {
   "cell_type": "code",
   "execution_count": 2,
   "id": "684c1e26-157c-45c5-8bb4-a1aa81e22f1c",
   "metadata": {},
   "outputs": [
    {
     "name": "stdout",
     "output_type": "stream",
     "text": [
      "enter emailxyz@data.com\n",
      "enter password12345\n",
      "This is your homepage\n"
     ]
    }
   ],
   "source": [
    "## Lets correct email and password be \n",
    "# email=\"xyz@data.com\"\n",
    "# password=\"12345\"\n",
    "\n",
    "email=input(\"enter email\")\n",
    "password=input(\"enter password\")\n",
    "\n",
    "if email== \"xyz@data.com\" and password== (\"12345\"):\n",
    "    print(\"This is your homepage\")\n",
    "else:\n",
    "        print(\"Incorrect details\")\n",
    "        "
   ]
  },
  {
   "cell_type": "raw",
   "id": "ea3f2cf0-6672-4e04-9c52-f8d2d1903185",
   "metadata": {},
   "source": [
    "Now we will see  nested if:\n",
    "consider if we want to give one more chance to the user if he/she entered wrong detail"
   ]
  },
  {
   "cell_type": "code",
   "execution_count": 3,
   "id": "48ad6f8e-6930-4e1e-b227-7d51ddb2f8c4",
   "metadata": {},
   "outputs": [
    {
     "name": "stdout",
     "output_type": "stream",
     "text": [
      "enter emailxyz@data.com\n",
      "enter password12345\n",
      "This is your homepage\n"
     ]
    }
   ],
   "source": [
    "## Let correct email and password be /n\n",
    "# email=\"xyz@data.com\"\n",
    "# password=\"12345\"\n",
    "\n",
    "email=input(\"enter email\")\n",
    "password=input(\"enter password\")\n",
    "\n",
    "if email== \"xyz@data.com\" and password== \"12345\":\n",
    "    print(\"This is your homepage\")\n",
    "elif email == \"xyz@data.com\" and password!= \"12345\":\n",
    "    print(\"incorrect password\")\n",
    "    input(\"enter password again\")\n",
    "    if password ==\"12345\":\n",
    "         print(\"correct\")\n",
    "    else:\n",
    "         print(\"wrong again\")\n",
    "else:\n",
    "        print(\"Incorrect details\")\n",
    "        "
   ]
  },
  {
   "cell_type": "markdown",
   "id": "6407709e-595d-459b-95f6-4e8586da9f0c",
   "metadata": {},
   "source": [
    "### FOR LOOP"
   ]
  },
  {
   "cell_type": "markdown",
   "id": "9d3dbb35-663f-44b2-a25e-6d41840ccaea",
   "metadata": {},
   "source": [
    "### 2 things to know before learning for loop processing in python:-\n",
    "   "
   ]
  },
  {
   "cell_type": "code",
   "execution_count": 4,
   "id": "5588f31c-7b59-4dd6-891e-e468fa763848",
   "metadata": {},
   "outputs": [
    {
     "data": {
      "text/plain": [
       "[1, 2, 3, 4, 5, 6, 7, 8, 9, 10, 11]"
      ]
     },
     "execution_count": 4,
     "metadata": {},
     "output_type": "execute_result"
    }
   ],
   "source": [
    "## 1.) Range:It is a function in python that produces numbers specified by a user, it has a startpoint,stop point and step\n",
    "list(range(1, 12))\n",
    "## here we got a list of numbers we mentioned in the funtion, first number is inclusive and last number is exclusive"
   ]
  },
  {
   "cell_type": "code",
   "execution_count": 5,
   "id": "d2ecef67-af73-4f17-be2a-77e9839d5c42",
   "metadata": {},
   "outputs": [
    {
     "data": {
      "text/plain": [
       "['Canada', 'India', 'USA']"
      ]
     },
     "execution_count": 5,
     "metadata": {},
     "output_type": "execute_result"
    }
   ],
   "source": [
    "## 1.) Sequence:Anything that has an order is known as Sequence , example, string,dictionary,etc.\n",
    "[\"Canada\",\"India\",\"USA\"]\n"
   ]
  },
  {
   "cell_type": "raw",
   "id": "553fe7b6-679e-4b49-b9a6-50ca162bbbe2",
   "metadata": {},
   "source": [
    "For loop iterate either over sequence or Range"
   ]
  },
  {
   "cell_type": "code",
   "execution_count": 6,
   "id": "5f04fbbc-6970-44d3-8454-3e7ae6aade1d",
   "metadata": {},
   "outputs": [
    {
     "name": "stdout",
     "output_type": "stream",
     "text": [
      "1\n",
      "4\n",
      "7\n",
      "10\n",
      "13\n",
      "16\n",
      "19\n"
     ]
    }
   ],
   "source": [
    "for i in range(1,20,3):\n",
    "    print(i)"
   ]
  },
  {
   "cell_type": "code",
   "execution_count": 7,
   "id": "6fab2b4d-cf0b-42b0-857c-8fcf0ec2952f",
   "metadata": {},
   "outputs": [
    {
     "name": "stdout",
     "output_type": "stream",
     "text": [
      "INDIA\n",
      "CANADA\n"
     ]
    }
   ],
   "source": [
    "for i in [\"INDIA\",\"CANADA\"]:\n",
    "    print(i)\n",
    "    "
   ]
  },
  {
   "cell_type": "markdown",
   "id": "8581b450-40af-400b-a9c3-185f1b755321",
   "metadata": {},
   "source": [
    "### Nested Loops "
   ]
  },
  {
   "cell_type": "raw",
   "id": "b8dd98e9-c438-4e3e-a7fc-efd92c36e7c2",
   "metadata": {},
   "source": [
    "A loop within a loop is known as nested loop. They could be many in number.\n",
    "It is not a very efficient solution for coding because time complexity increases with every use of nested loop. "
   ]
  },
  {
   "cell_type": "code",
   "execution_count": 8,
   "id": "a125adf4-1174-407f-8ab7-07557efe3638",
   "metadata": {},
   "outputs": [],
   "source": [
    "## To print a Pascal's triangle"
   ]
  },
  {
   "cell_type": "code",
   "execution_count": 9,
   "id": "47e18f98-2f5a-4818-b5e4-8c74a756b5e0",
   "metadata": {},
   "outputs": [
    {
     "name": "stdout",
     "output_type": "stream",
     "text": [
      "*  \n",
      "* *  \n",
      "* * *  \n",
      "* * * *  \n",
      "* * * * *  \n"
     ]
    }
   ],
   "source": [
    "for i in range(1,6):\n",
    "    for j in range(0,i):\n",
    "        print(\"*\",end=\" \")\n",
    "    print(\" \")\n",
    "    "
   ]
  }
 ],
 "metadata": {
  "kernelspec": {
   "display_name": "Python 3 (ipykernel)",
   "language": "python",
   "name": "python3"
  },
  "language_info": {
   "codemirror_mode": {
    "name": "ipython",
    "version": 3
   },
   "file_extension": ".py",
   "mimetype": "text/x-python",
   "name": "python",
   "nbconvert_exporter": "python",
   "pygments_lexer": "ipython3",
   "version": "3.9.13"
  }
 },
 "nbformat": 4,
 "nbformat_minor": 5
}
