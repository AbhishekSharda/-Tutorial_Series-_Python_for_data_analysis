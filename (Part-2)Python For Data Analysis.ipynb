{
 "cells": [
  {
   "cell_type": "markdown",
   "id": "117eccb1",
   "metadata": {},
   "source": [
    "# KEYWORDS AND IDENTIFIERS IN PYTHON "
   ]
  },
  {
   "cell_type": "raw",
   "id": "769f112f-b667-406b-aecf-04b6202bebd7",
   "metadata": {},
   "source": [
    "In world of programming languages, there are certain reserve words which have a special meaning . Such words are known as Keywords.\n",
    "They cannot be used as variable name"
   ]
  },
  {
   "cell_type": "markdown",
   "id": "f4743ac5-53d9-4133-b406-9178bb330fb7",
   "metadata": {},
   "source": [
    "<B>KEYWORDS</B>"
   ]
  },
  {
   "cell_type": "code",
   "execution_count": 1,
   "id": "e7f79091-c5e9-4f89-acd2-a67262157ff3",
   "metadata": {},
   "outputs": [
    {
     "name": "stdout",
     "output_type": "stream",
     "text": [
      "['False', 'None', 'True', '__peg_parser__', 'and', 'as', 'assert', 'async', 'await', 'break', 'class', 'continue', 'def', 'del', 'elif', 'else', 'except', 'finally', 'for', 'from', 'global', 'if', 'import', 'in', 'is', 'lambda', 'nonlocal', 'not', 'or', 'pass', 'raise', 'return', 'try', 'while', 'with', 'yield']\n"
     ]
    }
   ],
   "source": [
    "## There are 33 keywords in python\n",
    "import keyword\n",
    "print(keyword.kwlist)"
   ]
  },
  {
   "cell_type": "markdown",
   "id": "3cddd351-6b8a-4f70-a15e-0fe681ab8d3e",
   "metadata": {},
   "source": [
    "<B>IDENTIFIERS</B>"
   ]
  },
  {
   "cell_type": "markdown",
   "id": "2b1267b2-e13a-4c96-b39d-764048b2cbff",
   "metadata": {},
   "source": [
    "An identifier is a name used to identify a variable, function,class, module or any other object "
   ]
  },
  {
   "cell_type": "markdown",
   "id": "42055652-8577-4e34-ac38-dc5c5b168a46",
   "metadata": {},
   "source": [
    "<b>Rules for  setting Identifiers</b>"
   ]
  },
  {
   "cell_type": "raw",
   "id": "1d62c45e-7572-4912-b8d9-64656f865481",
   "metadata": {},
   "source": [
    "Can only start with an alphabet or _ (Underscore)\n",
    "Followed by 0 or more letters, _ and digits\n",
    "Keywords cannot be used as identifier "
   ]
  },
  {
   "cell_type": "code",
   "execution_count": 2,
   "id": "45b93cb4-e107-4a35-bb71-925edf7a296e",
   "metadata": {},
   "outputs": [
    {
     "name": "stdout",
     "output_type": "stream",
     "text": [
      "SOCCER\n"
     ]
    }
   ],
   "source": [
    "__=\"SOCCER\"\n",
    "print(__)"
   ]
  },
  {
   "cell_type": "code",
   "execution_count": 3,
   "id": "0f9576b1-d17b-4572-a670-2ee4f90974ae",
   "metadata": {},
   "outputs": [
    {
     "name": "stdout",
     "output_type": "stream",
     "text": [
      "NBA\n"
     ]
    }
   ],
   "source": [
    "_new_name=\"NBA\"\n",
    "print(_new_name)"
   ]
  },
  {
   "cell_type": "code",
   "execution_count": 4,
   "id": "a24cf950-54aa-45ac-b2b7-8d70c3e674c9",
   "metadata": {},
   "outputs": [
    {
     "name": "stdout",
     "output_type": "stream",
     "text": [
      "nfl\n"
     ]
    }
   ],
   "source": [
    "_0_0123=\"nfl\"\n",
    "print(_0_0123)"
   ]
  },
  {
   "cell_type": "raw",
   "id": "e7bbee67",
   "metadata": {},
   "source": [
    " Above,all 3 are valid variable names"
   ]
  },
  {
   "cell_type": "markdown",
   "id": "f1404954-6d1a-4b8b-a794-2698f1360fca",
   "metadata": {},
   "source": [
    "## Type Conversion"
   ]
  },
  {
   "cell_type": "markdown",
   "id": "81a1165f",
   "metadata": {},
   "source": [
    "#### In order to change the datatype into different datatype we can make use of type conversion.It will only work when the datatypes are intechangeable, example:-\n",
    "#### converting boolen to int, we cannot convert string to int\n",
    "#### we just write data type in front of values we are trying to convert ,eg int(4.0)\n",
    "#### type conversion is not permanent "
   ]
  },
  {
   "cell_type": "code",
   "execution_count": 5,
   "id": "d362742e-a945-49ed-9b96-8388018c551c",
   "metadata": {},
   "outputs": [
    {
     "data": {
      "text/plain": [
       "4"
      ]
     },
     "execution_count": 5,
     "metadata": {},
     "output_type": "execute_result"
    }
   ],
   "source": [
    "## float to int\n",
    "a=4.5\n",
    "int(a)"
   ]
  },
  {
   "cell_type": "code",
   "execution_count": 6,
   "id": "b50e10fb-ba7f-4d8e-8278-3ce240a67559",
   "metadata": {},
   "outputs": [
    {
     "data": {
      "text/plain": [
       "1"
      ]
     },
     "execution_count": 6,
     "metadata": {},
     "output_type": "execute_result"
    }
   ],
   "source": [
    "##Boolean to int\n",
    "s=True\n",
    "int(s)"
   ]
  },
  {
   "cell_type": "code",
   "execution_count": 7,
   "id": "f5e6338d-006f-4564-ba50-d90cfb2c3260",
   "metadata": {},
   "outputs": [
    {
     "data": {
      "text/plain": [
       "['A', 'M', 'E', 'R', 'I', 'C', 'A']"
      ]
     },
     "execution_count": 7,
     "metadata": {},
     "output_type": "execute_result"
    }
   ],
   "source": [
    "#String to list\n",
    "list(\"AMERICA\")"
   ]
  },
  {
   "cell_type": "markdown",
   "id": "6df8c98f",
   "metadata": {},
   "source": [
    "### End of Part-2"
   ]
  }
 ],
 "metadata": {
  "kernelspec": {
   "display_name": "Python 3 (ipykernel)",
   "language": "python",
   "name": "python3"
  },
  "language_info": {
   "codemirror_mode": {
    "name": "ipython",
    "version": 3
   },
   "file_extension": ".py",
   "mimetype": "text/x-python",
   "name": "python",
   "nbconvert_exporter": "python",
   "pygments_lexer": "ipython3",
   "version": "3.9.13"
  }
 },
 "nbformat": 4,
 "nbformat_minor": 5
}
